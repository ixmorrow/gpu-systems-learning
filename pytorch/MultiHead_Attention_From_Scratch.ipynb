{
  "nbformat": 4,
  "nbformat_minor": 0,
  "metadata": {
    "colab": {
      "provenance": []
    },
    "kernelspec": {
      "name": "python3",
      "display_name": "Python 3"
    },
    "language_info": {
      "name": "python"
    }
  },
  "cells": [
    {
      "cell_type": "code",
      "execution_count": 3,
      "metadata": {
        "id": "q-kvLAU4bk4f"
      },
      "outputs": [],
      "source": [
        "# Build an Attention Neural Network using PyTorch\n",
        "import torch\n",
        "import torch.nn as nn\n",
        "import torch.nn.functional as F\n",
        "import numpy as np\n",
        "import math"
      ]
    },
    {
      "cell_type": "code",
      "source": [
        "class AttentionNeuralNet(nn.Module):\n",
        "  def __init__(self, d_model, num_heads):\n",
        "    super().__init__()\n",
        "    self.d_model = d_model    # embedding dimension (e.g., 512)\n",
        "    self.num_heads = num_heads  # number of attention heads (e.g., 8)\n",
        "    self.head_dim = d_model // num_heads  # dimension per head (e.g., 64)\n",
        "\n",
        "    # Create the Q, K, V projection layers\n",
        "    self.q_proj = nn.Linear(d_model, d_model)\n",
        "    self.k_proj = nn.Linear(d_model, d_model)\n",
        "    self.v_proj = nn.Linear(d_model, d_model)\n",
        "\n",
        "    # Final output projection\n",
        "    self.out_proj = nn.Linear(d_model, d_model)\n",
        "\n",
        "    # scaled dot product attention\n",
        "    def attention(self, Q, K, V):\n",
        "      \"\"\"\n",
        "      Q, K, V are expected to be of shape:\n",
        "        [batch_size, seq_len, d_k]\n",
        "      or possibly\n",
        "        [batch_size, num_heads, seq_len, d_k]\n",
        "      if you’re already doing multi-head splitting.\n",
        "      \"\"\"\n",
        "      d_k = K.shape[-1]\n",
        "      scores = Q @ K.Transpose(-2, -1)\n",
        "      scores = scores / math.sqrt(d_k)\n",
        "      attention_weights = F.softmax(scores, dim=-1)\n",
        "      output = attention_weights @ V\n",
        "\n",
        "      return output, attention_weights\n",
        "\n",
        "    def reshape_attention(self, output, attention_weights, batch_size, seq_len):\n",
        "      # re-order dimensions back to original\n",
        "      output = torch.permute(output, (0, 2, 1, 3))\n",
        "      attention_weights = torch.permute(attention_weights, (0, 2, 1, 3))\n",
        "      # reshape the dimensions to \"combine\" the attention heads outputs\n",
        "      output = output.reshape(batch_size, seq_len, d_model)\n",
        "      # attention_weights has shape [batch_size, num_heads, seq_len, seq_len]\n",
        "      # Average across the heads dimension (dim=1)\n",
        "      attention_weights = attention_weights.mean(dim=1)\n",
        "\n",
        "      return output, attention_weights\n",
        "\n",
        "    def forward(self, x):\n",
        "      batch_size, seq_len, d_model = x.shape\n",
        "      Q = self.q_proj(x)\n",
        "      K = self.k_proj(x)\n",
        "      V = self.v_proj(x)\n",
        "\n",
        "      # Reshape to separate the heads\n",
        "      Q = Q.view(batch_size, seq_len, self.num_heads, self.head_dim)\n",
        "      K = K.view(batch_size, seq_len, self.num_heads, self.head_dim)\n",
        "      V = V.view(batch_size, seq_len, self.num_heads, self.head_dim)\n",
        "\n",
        "      # re-order dimensions to be compatible with attention method\n",
        "      Q = torch.permute(Q, (0, 2, 1, 3))\n",
        "      K = torch.permute(K, (0, 2, 1, 3))\n",
        "      V = torch.permute(V, (0, 2, 1, 3))\n",
        "\n",
        "      output, attention_weights = self.attention(Q, K, V)\n",
        "      output, attention_weights = self.reshape_attention(output, attention_weights, batch_size, seq_len)\n",
        "\n",
        "      output = self.out_proj(output)\n",
        "\n",
        "      return output, attention_weights\n"
      ],
      "metadata": {
        "id": "xXKWE3ixbwqS"
      },
      "execution_count": 6,
      "outputs": []
    },
    {
      "cell_type": "markdown",
      "source": [
        "# NOTES\n",
        "\n",
        "Input embedding dimension is the embedding of each token's embedding matrix that comes into the attention layer. -> Split words into tokens and each token is converted to an embedding matrix that numerically represents what the word is in some language embedding space.\n",
        "\n",
        "Attention weights have a different dimension than the outputs.\n",
        "\n",
        "For the attention weights:\n",
        "\n",
        "They come from the scores calculation: scores = Q @ K.transpose(-2, -1)\n",
        "\n",
        "* Q shape: [batch_size, num_heads, seq_len, head_dim]\n",
        "* K.transpose shape: [batch_size, num_heads, head_dim, seq_len]\n",
        "* When you multiply these, you get: [batch_size, num_heads, seq_len, seq_len]\n",
        "\n",
        "The key difference is that attention weights represent how much each token attends to every other token."
      ],
      "metadata": {
        "id": "aWu-G96lid31"
      }
    },
    {
      "cell_type": "code",
      "source": [],
      "metadata": {
        "id": "xIGg6Muuiyoh"
      },
      "execution_count": null,
      "outputs": []
    }
  ]
}