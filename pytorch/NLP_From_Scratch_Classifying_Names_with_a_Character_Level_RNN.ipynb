{
  "nbformat": 4,
  "nbformat_minor": 0,
  "metadata": {
    "colab": {
      "provenance": [],
      "machine_shape": "hm",
      "gpuType": "T4"
    },
    "kernelspec": {
      "name": "python3",
      "display_name": "Python 3"
    },
    "language_info": {
      "name": "python"
    },
    "accelerator": "GPU"
  },
  "cells": [
    {
      "cell_type": "code",
      "execution_count": null,
      "metadata": {
        "colab": {
          "base_uri": "https://localhost:8080/"
        },
        "id": "ScmNyP_xTnyG",
        "outputId": "1cb60cf3-bd2e-482e-c28e-e06291564af8"
      },
      "outputs": [
        {
          "output_type": "stream",
          "name": "stdout",
          "text": [
            "Using device: cuda:0\n"
          ]
        }
      ],
      "source": [
        "import torch\n",
        "\n",
        "# Check if CUDA is available\n",
        "device = torch.device('cpu')\n",
        "if torch.cuda.is_available():\n",
        "    device = torch.device('cuda')\n",
        "\n",
        "torch.set_default_device(device)\n",
        "# Print the device\n",
        "print(f\"Using device: {torch.get_default_device()}\")"
      ]
    },
    {
      "cell_type": "code",
      "source": [
        "from google.colab import drive\n",
        "drive.mount('/content/drive')"
      ],
      "metadata": {
        "colab": {
          "base_uri": "https://localhost:8080/"
        },
        "id": "KutzQSCkUCpF",
        "outputId": "9baf2e19-e6ae-4d9b-b73f-9a5eec852447"
      },
      "execution_count": null,
      "outputs": [
        {
          "output_type": "stream",
          "name": "stdout",
          "text": [
            "Drive already mounted at /content/drive; to attempt to forcibly remount, call drive.mount(\"/content/drive\", force_remount=True).\n"
          ]
        }
      ]
    },
    {
      "cell_type": "code",
      "source": [
        "import string\n",
        "import unicodedata\n",
        "\n",
        "allowed_characters = string.ascii_letters + \" .,;'\"\n",
        "n_letters = len(allowed_characters)\n",
        "\n",
        "# Turn a Unicode string to plain ASCII\n",
        "def unicodeToAscii(s):\n",
        "    return ''.join(\n",
        "        c for c in unicodedata.normalize('NFD', s)\n",
        "        if unicodedata.category(c) != 'Mn'\n",
        "        and c in allowed_characters\n",
        "    )"
      ],
      "metadata": {
        "id": "u7GARkbXU-y4"
      },
      "execution_count": null,
      "outputs": []
    },
    {
      "cell_type": "code",
      "source": [
        "print(f\"converting 'Ślusàrski' to {unicodeToAscii('Ślusàrski')}\")"
      ],
      "metadata": {
        "colab": {
          "base_uri": "https://localhost:8080/"
        },
        "id": "CUL8hXTlV6Xm",
        "outputId": "4850474f-ecfe-4a5e-d9d5-ea05ed8d6abb"
      },
      "execution_count": null,
      "outputs": [
        {
          "output_type": "stream",
          "name": "stdout",
          "text": [
            "converting 'Ślusàrski' to Slusarski\n"
          ]
        }
      ]
    },
    {
      "cell_type": "code",
      "source": [
        "# Want to convert names to list of tensors\n",
        "# Will use one-hot encoded vectors to represent single letters\n",
        "# Each word will be converted to Tensor, where each line represents\n",
        "# a one-hot encoded vector for a single letter in that given word\n",
        "\n",
        "# Find letter index from all_letters, e.g. \"a\" = 0\n",
        "def letterToIndex(letter):\n",
        "    return allowed_characters.find(letter)\n",
        "\n",
        "# Turn a line into a <line_length x 1 x n_letters>,\n",
        "# or an array of one-hot letter vectors\n",
        "def lineToTensor(line):\n",
        "  tensor = torch.zeros(len(line), 1, n_letters)\n",
        "  for li, letter in enumerate(line):\n",
        "    tensor[li][0][letterToIndex(letter)] = 1\n",
        "  return tensor"
      ],
      "metadata": {
        "id": "zECmX7eKWvmt"
      },
      "execution_count": null,
      "outputs": []
    },
    {
      "cell_type": "code",
      "source": [
        "print (f\"The letter 'a' becomes {lineToTensor('a')}\") #notice that the first position in the tensor = 1\n",
        "print (f\"The name 'Ahn' becomes {lineToTensor('Ahn')}\") #notice 'A' sets the 27th index to 1"
      ],
      "metadata": {
        "colab": {
          "base_uri": "https://localhost:8080/"
        },
        "id": "n2QBq8XUYlAr",
        "outputId": "9236b104-f08f-4e32-f60a-7ed261c6e1ad"
      },
      "execution_count": null,
      "outputs": [
        {
          "output_type": "stream",
          "name": "stdout",
          "text": [
            "The letter 'a' becomes tensor([[[1., 0., 0., 0., 0., 0., 0., 0., 0., 0., 0., 0., 0., 0., 0., 0., 0.,\n",
            "          0., 0., 0., 0., 0., 0., 0., 0., 0., 0., 0., 0., 0., 0., 0., 0., 0.,\n",
            "          0., 0., 0., 0., 0., 0., 0., 0., 0., 0., 0., 0., 0., 0., 0., 0., 0.,\n",
            "          0., 0., 0., 0., 0., 0.]]], device='cuda:0')\n",
            "The name 'Ahn' becomes tensor([[[0., 0., 0., 0., 0., 0., 0., 0., 0., 0., 0., 0., 0., 0., 0., 0., 0.,\n",
            "          0., 0., 0., 0., 0., 0., 0., 0., 0., 1., 0., 0., 0., 0., 0., 0., 0.,\n",
            "          0., 0., 0., 0., 0., 0., 0., 0., 0., 0., 0., 0., 0., 0., 0., 0., 0.,\n",
            "          0., 0., 0., 0., 0., 0.]],\n",
            "\n",
            "        [[0., 0., 0., 0., 0., 0., 0., 1., 0., 0., 0., 0., 0., 0., 0., 0., 0.,\n",
            "          0., 0., 0., 0., 0., 0., 0., 0., 0., 0., 0., 0., 0., 0., 0., 0., 0.,\n",
            "          0., 0., 0., 0., 0., 0., 0., 0., 0., 0., 0., 0., 0., 0., 0., 0., 0.,\n",
            "          0., 0., 0., 0., 0., 0.]],\n",
            "\n",
            "        [[0., 0., 0., 0., 0., 0., 0., 0., 0., 0., 0., 0., 0., 1., 0., 0., 0.,\n",
            "          0., 0., 0., 0., 0., 0., 0., 0., 0., 0., 0., 0., 0., 0., 0., 0., 0.,\n",
            "          0., 0., 0., 0., 0., 0., 0., 0., 0., 0., 0., 0., 0., 0., 0., 0., 0.,\n",
            "          0., 0., 0., 0., 0., 0.]]], device='cuda:0')\n"
          ]
        }
      ]
    },
    {
      "cell_type": "code",
      "source": [
        "# Next we need to combine our data into a PyTorch Dataset so we can train, test, and validate\n",
        "# our models. Each Dataset needs to implement three functions:\n",
        "# __init__, __len__, __getitem__\n",
        "\n",
        "from io import open\n",
        "import glob\n",
        "import os\n",
        "import time\n",
        "from torch.utils.data import Dataset, DataLoader\n",
        "\n",
        "class NamesDataset(Dataset):\n",
        "  def __init__(self, data_dir):\n",
        "    self.data_dir = data_dir\n",
        "    self.load_time = time.localtime\n",
        "    labels_set = set()\n",
        "\n",
        "    self.data = []\n",
        "    self.data_tensors = []\n",
        "    self.labels = []\n",
        "    self.labels_tensors = []\n",
        "\n",
        "    # read all the .txt files in the specified directory\n",
        "    text_files = glob.glob(os.path.join(data_dir, '*.txt'))\n",
        "    for filename in text_files:\n",
        "      label = os.path.splitext(os.path.basename(filename))[0]\n",
        "      labels_set.add(label)\n",
        "      lines = open(filename, encoding='utf-8').read().strip().split('\\n')\n",
        "      for name in lines:\n",
        "        self.data.append(name)\n",
        "        self.data_tensors.append(lineToTensor(name))\n",
        "        self.labels.append(label)\n",
        "\n",
        "    # Cache the tensor representation of the labels\n",
        "    self.labels_uniq = list(labels_set)\n",
        "    for idx in range(len(self.labels)):\n",
        "      temp_tensor = torch.tensor([self.labels_uniq.index(self.labels[idx])], dtype=torch.long)\n",
        "      self.labels_tensors.append(temp_tensor)\n",
        "\n",
        "  def __len__(self):\n",
        "    return len(self.data)\n",
        "\n",
        "  def __getitem__(self, idx):\n",
        "    data_item = self.data[idx]\n",
        "    data_label = self.labels[idx]\n",
        "    data_tensor = self.data_tensors[idx]\n",
        "    label_tensor = self.labels_tensors[idx]\n",
        "\n",
        "    return label_tensor, data_tensor, data_label, data_item"
      ],
      "metadata": {
        "id": "bFm5mkZZYqpM"
      },
      "execution_count": null,
      "outputs": []
    },
    {
      "cell_type": "code",
      "source": [
        "alldata = NamesDataset('/content/drive/MyDrive/data/names')\n",
        "print(f\"loaded {len(alldata)} items of data\")\n",
        "print(f\"example = {alldata[0]}\")"
      ],
      "metadata": {
        "colab": {
          "base_uri": "https://localhost:8080/"
        },
        "id": "jzAtfgHfbOC7",
        "outputId": "f4997bc1-3e67-448e-a428-70f65ec924b7"
      },
      "execution_count": null,
      "outputs": [
        {
          "output_type": "stream",
          "name": "stdout",
          "text": [
            "loaded 20074 items of data\n",
            "example = (tensor([12], device='cuda:0'), tensor([[[0., 0., 0., 0., 0., 0., 0., 0., 0., 0., 0., 0., 0., 0., 0., 0., 0.,\n",
            "          0., 0., 0., 0., 0., 0., 0., 0., 0., 1., 0., 0., 0., 0., 0., 0., 0.,\n",
            "          0., 0., 0., 0., 0., 0., 0., 0., 0., 0., 0., 0., 0., 0., 0., 0., 0.,\n",
            "          0., 0., 0., 0., 0., 0.]],\n",
            "\n",
            "        [[0., 1., 0., 0., 0., 0., 0., 0., 0., 0., 0., 0., 0., 0., 0., 0., 0.,\n",
            "          0., 0., 0., 0., 0., 0., 0., 0., 0., 0., 0., 0., 0., 0., 0., 0., 0.,\n",
            "          0., 0., 0., 0., 0., 0., 0., 0., 0., 0., 0., 0., 0., 0., 0., 0., 0.,\n",
            "          0., 0., 0., 0., 0., 0.]],\n",
            "\n",
            "        [[0., 1., 0., 0., 0., 0., 0., 0., 0., 0., 0., 0., 0., 0., 0., 0., 0.,\n",
            "          0., 0., 0., 0., 0., 0., 0., 0., 0., 0., 0., 0., 0., 0., 0., 0., 0.,\n",
            "          0., 0., 0., 0., 0., 0., 0., 0., 0., 0., 0., 0., 0., 0., 0., 0., 0.,\n",
            "          0., 0., 0., 0., 0., 0.]],\n",
            "\n",
            "        [[0., 0., 0., 0., 0., 0., 0., 0., 1., 0., 0., 0., 0., 0., 0., 0., 0.,\n",
            "          0., 0., 0., 0., 0., 0., 0., 0., 0., 0., 0., 0., 0., 0., 0., 0., 0.,\n",
            "          0., 0., 0., 0., 0., 0., 0., 0., 0., 0., 0., 0., 0., 0., 0., 0., 0.,\n",
            "          0., 0., 0., 0., 0., 0.]],\n",
            "\n",
            "        [[0., 0., 0., 0., 0., 0., 0., 0., 0., 0., 0., 0., 0., 1., 0., 0., 0.,\n",
            "          0., 0., 0., 0., 0., 0., 0., 0., 0., 0., 0., 0., 0., 0., 0., 0., 0.,\n",
            "          0., 0., 0., 0., 0., 0., 0., 0., 0., 0., 0., 0., 0., 0., 0., 0., 0.,\n",
            "          0., 0., 0., 0., 0., 0.]],\n",
            "\n",
            "        [[0., 0., 0., 0., 0., 0., 1., 0., 0., 0., 0., 0., 0., 0., 0., 0., 0.,\n",
            "          0., 0., 0., 0., 0., 0., 0., 0., 0., 0., 0., 0., 0., 0., 0., 0., 0.,\n",
            "          0., 0., 0., 0., 0., 0., 0., 0., 0., 0., 0., 0., 0., 0., 0., 0., 0.,\n",
            "          0., 0., 0., 0., 0., 0.]]], device='cuda:0'), 'German', 'Abbing')\n"
          ]
        }
      ]
    },
    {
      "cell_type": "code",
      "source": [
        "# can easily split the dataset into train/test splits with datasets\n",
        "# torch.Generator is not what I though, it is used to control the randomness of ops in PyTorch, not\n",
        "# act as a generator that can yield results\n",
        "\n",
        "train_set, test_set = torch.utils.data.random_split(alldata, [.85, .15],\n",
        "                                                    generator=torch.Generator(device=device).manual_seed(2024))\n",
        "print(f\"train examples = {len(train_set)}, validation examples = {len(test_set)}\")"
      ],
      "metadata": {
        "colab": {
          "base_uri": "https://localhost:8080/"
        },
        "id": "eMVEkIz2blVy",
        "outputId": "a989c809-901f-4796-9a8f-76e3de169801"
      },
      "execution_count": null,
      "outputs": [
        {
          "output_type": "stream",
          "name": "stdout",
          "text": [
            "train examples = 17063, validation examples = 3011\n"
          ]
        }
      ]
    },
    {
      "cell_type": "code",
      "source": [
        "# Next we creat the RNN Network\n",
        "# We will use the nn.RNN implementation rather than the nn.Linear layers here\n",
        "# this leads to significant improvement in performance\n",
        "# https://pytorch.org/docs/stable/generated/torch.nn.RNN.html\n",
        "\n",
        "import torch.nn as nn\n",
        "import torch.nn.functional as F\n",
        "\n",
        "class CharRNN(nn.Module):\n",
        "  def __init__(self, input_size, hidden_size, output_size):\n",
        "    super(CharRNN, self).__init__()\n",
        "\n",
        "    self.rnn = nn.RNN(input_size, hidden_size)\n",
        "    self.h2o = nn.Linear(hidden_size, output_size)\n",
        "    self.softmax = nn.LogSoftmax(dim=1)\n",
        "\n",
        "  def forward(self, line_tensor):\n",
        "    output, hidden = self.rnn(line_tensor)\n",
        "    output = self.h2o(hidden[0])\n",
        "    output = self.softmax(output)\n",
        "    return output"
      ],
      "metadata": {
        "id": "rYPDpJoRcPea"
      },
      "execution_count": null,
      "outputs": []
    },
    {
      "cell_type": "code",
      "source": [
        "# next we create an RNN with 57 input nodes, 128 hidden nodes, and 18 outputs\n",
        "\n",
        "n_hidden = 128\n",
        "rnn = CharRNN(n_letters, n_hidden, len(alldata.labels_uniq))\n",
        "print(rnn)"
      ],
      "metadata": {
        "colab": {
          "base_uri": "https://localhost:8080/"
        },
        "id": "U-EB1TaWdqCO",
        "outputId": "7301c52a-6be7-4dcb-8e50-7ec0a064a5a9"
      },
      "execution_count": null,
      "outputs": [
        {
          "output_type": "stream",
          "name": "stdout",
          "text": [
            "CharRNN(\n",
            "  (rnn): RNN(57, 128)\n",
            "  (h2o): Linear(in_features=128, out_features=18, bias=True)\n",
            "  (softmax): LogSoftmax(dim=1)\n",
            ")\n"
          ]
        }
      ]
    },
    {
      "cell_type": "code",
      "source": [
        "n_letters"
      ],
      "metadata": {
        "colab": {
          "base_uri": "https://localhost:8080/"
        },
        "id": "DkdnYdraeFfI",
        "outputId": "fd9968ed-b6b8-4a12-a0ae-254aa2ef7599"
      },
      "execution_count": null,
      "outputs": [
        {
          "output_type": "execute_result",
          "data": {
            "text/plain": [
              "57"
            ]
          },
          "metadata": {},
          "execution_count": 19
        }
      ]
    },
    {
      "cell_type": "code",
      "source": [
        "# After that we can pass our Tensor to the RNN to obtain a predicted output, we use a helper function\n",
        "# to derive a text label for the class\n",
        "\n",
        "# goal of label_from_output is to identify the label with highest predicted value and return\n",
        "# both the label and its index\n",
        "def label_from_output(output, output_labels):\n",
        "  top_n, top_i = output.topk(1)\n",
        "  label_i = top_i[0].item()\n",
        "  return output_labels[label_i], label_i"
      ],
      "metadata": {
        "id": "beEZNJQeeOLg"
      },
      "execution_count": null,
      "outputs": []
    },
    {
      "cell_type": "code",
      "source": [
        "input = lineToTensor('Albert')\n",
        "output = rnn(input) #this is equivalent to ``output = rnn.forward(input)``\n",
        "print(output)\n",
        "print(label_from_output(output, alldata.labels_uniq))"
      ],
      "metadata": {
        "colab": {
          "base_uri": "https://localhost:8080/"
        },
        "id": "80PVxBAEfAXj",
        "outputId": "46e2b855-82d2-4561-e241-fe5f39e95499"
      },
      "execution_count": null,
      "outputs": [
        {
          "output_type": "stream",
          "name": "stdout",
          "text": [
            "tensor([[-2.8022, -3.0365, -2.7991, -3.0052, -2.8170, -2.8690, -2.8956, -2.9771,\n",
            "         -2.8235, -2.8480, -2.7490, -2.9403, -2.9118, -3.0072, -2.8381, -2.9046,\n",
            "         -2.8010, -3.0765]], device='cuda:0', grad_fn=<LogSoftmaxBackward0>)\n",
            "('Greek', 10)\n"
          ]
        }
      ]
    },
    {
      "cell_type": "code",
      "source": [
        "input = lineToTensor('Morrow')\n",
        "output = rnn(input) #this is equivalent to ``output = rnn.forward(input)``\n",
        "print(output)\n",
        "print(label_from_output(output, alldata.labels_uniq))"
      ],
      "metadata": {
        "colab": {
          "base_uri": "https://localhost:8080/"
        },
        "id": "SvphOrrUfBYu",
        "outputId": "5059aca3-7e41-41f8-ed8c-acbef4e6d065"
      },
      "execution_count": null,
      "outputs": [
        {
          "output_type": "stream",
          "name": "stdout",
          "text": [
            "tensor([[-2.9114, -3.0329, -2.8602, -3.0187, -2.8399, -2.7881, -2.8591, -2.9863,\n",
            "         -2.7873, -2.8032, -2.7562, -2.9900, -2.9073, -3.0054, -2.8409, -2.8988,\n",
            "         -2.7972, -3.0173]], device='cuda:0', grad_fn=<LogSoftmaxBackward0>)\n",
            "('Greek', 10)\n"
          ]
        }
      ]
    },
    {
      "cell_type": "code",
      "source": [
        "# Training\n",
        "\n",
        "import random\n",
        "import numpy as np\n",
        "\n",
        "def train(rnn, training_data, n_epoch = 10, n_batch_size = 64, report_every = 50, learning_rate = 0.2, criterion = nn.NLLLoss()):\n",
        "    \"\"\"\n",
        "    Learn on a batch of training_data for a specified number of iterations and reporting thresholds\n",
        "    \"\"\"\n",
        "    # Keep track of losses for plotting\n",
        "    current_loss = 0\n",
        "    all_losses = []\n",
        "    rnn.train()\n",
        "    optimizer = torch.optim.SGD(rnn.parameters(), lr=learning_rate)\n",
        "\n",
        "    start = time.time()\n",
        "    print(f\"training on data set with n = {len(training_data)}\")\n",
        "\n",
        "    for iter in range(1, n_epoch + 1):\n",
        "        rnn.zero_grad() # clear the gradients\n",
        "\n",
        "        # create some minibatches\n",
        "        # we cannot use dataloaders because each of our names is a different length\n",
        "        batches = list(range(len(training_data)))\n",
        "        random.shuffle(batches)\n",
        "        batches = np.array_split(batches, len(batches) //n_batch_size )\n",
        "\n",
        "        for idx, batch in enumerate(batches):\n",
        "            batch_loss = 0\n",
        "            for i in batch: #for each example in this batch\n",
        "                (label_tensor, text_tensor, label, text) = training_data[i]\n",
        "                output = rnn.forward(text_tensor)\n",
        "                loss = criterion(output, label_tensor)\n",
        "                batch_loss += loss\n",
        "\n",
        "            # optimize parameters\n",
        "            batch_loss.backward()\n",
        "            nn.utils.clip_grad_norm_(rnn.parameters(), 3)\n",
        "            optimizer.step()\n",
        "            optimizer.zero_grad()\n",
        "\n",
        "            current_loss += batch_loss.item() / len(batch)\n",
        "\n",
        "        all_losses.append(current_loss / len(batches) )\n",
        "        if iter % report_every == 0:\n",
        "            print(f\"{iter} ({iter / n_epoch:.0%}): \\t average batch loss = {all_losses[-1]}\")\n",
        "        current_loss = 0\n",
        "\n",
        "    return all_losses"
      ],
      "metadata": {
        "id": "psQjiTP3fC5L"
      },
      "execution_count": 29,
      "outputs": []
    },
    {
      "cell_type": "code",
      "source": [
        "start = time.time()\n",
        "all_losses = train(rnn, train_set, n_epoch=27, learning_rate=0.15, report_every=5)\n",
        "end = time.time()\n",
        "print(f\"training took {end-start}s\")"
      ],
      "metadata": {
        "colab": {
          "base_uri": "https://localhost:8080/"
        },
        "id": "qUdWxR-UiQ8v",
        "outputId": "e052287b-2ac2-4aa5-d6a5-e8e1cb1b8956"
      },
      "execution_count": 30,
      "outputs": [
        {
          "output_type": "stream",
          "name": "stdout",
          "text": [
            "training on data set with n = 17063\n",
            "5 (19%): \t average batch loss = 0.7952609767815223\n",
            "10 (37%): \t average batch loss = 0.6460084642165654\n",
            "15 (56%): \t average batch loss = 0.5419521691009377\n",
            "20 (74%): \t average batch loss = 0.4665013206779026\n",
            "25 (93%): \t average batch loss = 0.41459755040597474\n",
            "training took 407.46607661247253s\n"
          ]
        }
      ]
    },
    {
      "cell_type": "code",
      "source": [
        "# plotting the loss shows the network learning\n",
        "import matplotlib.pyplot as plt\n",
        "import matplotlib.ticker as ticker\n",
        "\n",
        "plt.figure()\n",
        "plt.plot(all_losses)\n",
        "plt.show()"
      ],
      "metadata": {
        "colab": {
          "base_uri": "https://localhost:8080/",
          "height": 429
        },
        "id": "sYVf_aGFiV9W",
        "outputId": "2e03c427-68d6-400b-f931-c07e0c4db98b"
      },
      "execution_count": 31,
      "outputs": [
        {
          "output_type": "display_data",
          "data": {
            "text/plain": [
              "<Figure size 640x480 with 1 Axes>"
            ],
            "image/png": "[encoded data removed]"
          },
          "metadata": {}
        }
      ]
    },
    {
      "cell_type": "code",
      "source": [
        "# evaluate matrix to see performance\n",
        "def evaluate(rnn, testing_data, classes):\n",
        "  confusion = torch.zeros(len(classes), len(classes))\n",
        "\n",
        "  rnn.eval() # set to eval mode\n",
        "  with torch.no_grad():\n",
        "    for i in range(len(testing_data)):\n",
        "      (label_tensor, text_tensor, label, text) = testing_data[i]\n",
        "      output = rnn(text_tensor)\n",
        "      guess, guess_i = label_from_output(output, classes)\n",
        "      label_i = classes.index(label)\n",
        "      confusion[label_i][guess_i] += 1\n",
        "\n",
        "  # Normalize by dividing every row by its sum\n",
        "  for i in range(len(classes)):\n",
        "    denom = confusion[i].sum()\n",
        "    if denom > 0:\n",
        "      confusion[i] = confusion[i] / denom\n",
        "\n",
        "  # Set up plot\n",
        "  fig = plt.figure()\n",
        "  ax = fig.add_subplot(111)\n",
        "  cax = ax.matshow(confusion.cpu().numpy()) #numpy uses cpu here so we need to use a cpu version\n",
        "  fig.colorbar(cax)\n",
        "\n",
        "  # Set up axes\n",
        "  ax.set_xticks(np.arange(len(classes)), labels=classes, rotation=90)\n",
        "  ax.set_yticks(np.arange(len(classes)), labels=classes)\n",
        "\n",
        "  # Force label at every tick\n",
        "  ax.xaxis.set_major_locator(ticker.MultipleLocator(1))\n",
        "  ax.yaxis.set_major_locator(ticker.MultipleLocator(1))\n",
        "\n",
        "  # sphinx_gallery_thumbnail_number = 2\n",
        "  plt.show()"
      ],
      "metadata": {
        "id": "H1mDBwgHifSz"
      },
      "execution_count": 32,
      "outputs": []
    },
    {
      "cell_type": "code",
      "source": [
        "evaluate(rnn, test_set, classes=alldata.labels_uniq)"
      ],
      "metadata": {
        "colab": {
          "base_uri": "https://localhost:8080/",
          "height": 505
        },
        "id": "saS1nyFPloYB",
        "outputId": "847ad217-0688-445b-e961-4b3724c47072"
      },
      "execution_count": 33,
      "outputs": [
        {
          "output_type": "display_data",
          "data": {
            "text/plain": [
              "<Figure size 640x480 with 2 Axes>"
            ],
            "image/png": "[encoded data removed]"
          },
          "metadata": {}
        }
      ]
    },
    {
      "cell_type": "code",
      "source": [
        "input = lineToTensor('Morrow')\n",
        "output = rnn(input) #this is equivalent to ``output = rnn.forward(input)``\n",
        "print(output)\n",
        "print(label_from_output(output, alldata.labels_uniq))"
      ],
      "metadata": {
        "colab": {
          "base_uri": "https://localhost:8080/"
        },
        "id": "stAg1CVWlshF",
        "outputId": "77e495be-2a3e-43e4-8e7b-fb84d0baddb7"
      },
      "execution_count": 36,
      "outputs": [
        {
          "output_type": "stream",
          "name": "stdout",
          "text": [
            "tensor([[-6.1293, -5.0532, -1.9523, -3.4764, -4.6085, -3.0114, -6.0163, -8.0410,\n",
            "         -3.2994, -0.3684, -7.9392, -8.4120, -5.7686, -6.9875, -8.3199, -7.0128,\n",
            "         -3.9156, -6.1291]], device='cuda:0', grad_fn=<LogSoftmaxBackward0>)\n",
            "('English', 9)\n"
          ]
        }
      ]
    },
    {
      "cell_type": "code",
      "source": [
        "input = lineToTensor('Jawoisz')\n",
        "output = rnn(input) #this is equivalent to ``output = rnn.forward(input)``\n",
        "print(output)\n",
        "print(label_from_output(output, alldata.labels_uniq))"
      ],
      "metadata": {
        "colab": {
          "base_uri": "https://localhost:8080/"
        },
        "id": "1OeCTfwflx2F",
        "outputId": "344dba41-07e1-4b67-f1a2-0526b425a653"
      },
      "execution_count": 37,
      "outputs": [
        {
          "output_type": "stream",
          "name": "stdout",
          "text": [
            "tensor([[-12.4552, -12.6405,  -0.0610,  -7.7801,  -7.4429,  -5.3217,  -8.0120,\n",
            "         -12.3114,  -5.4628,  -3.1205,  -7.1941, -11.1540,  -5.7526,  -9.1208,\n",
            "          -7.9267, -10.0605, -10.9584,  -8.9536]], device='cuda:0',\n",
            "       grad_fn=<LogSoftmaxBackward0>)\n",
            "('Russian', 2)\n"
          ]
        }
      ]
    },
    {
      "cell_type": "code",
      "source": [],
      "metadata": {
        "id": "JjZOgA0pl70i"
      },
      "execution_count": null,
      "outputs": []
    }
  ]
}