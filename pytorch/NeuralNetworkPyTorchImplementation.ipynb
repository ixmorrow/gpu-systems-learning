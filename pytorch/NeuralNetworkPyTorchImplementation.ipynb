{
  "cells": [
    {
      "cell_type": "code",
      "execution_count": null,
      "metadata": {
        "id": "DvMCJpgEsBs5"
      },
      "outputs": [],
      "source": [
        "import torch\n",
        "import torch.nn as nn\n",
        "import math\n",
        "from typing import List"
      ]
    },
    {
      "cell_type": "code",
      "execution_count": null,
      "metadata": {
        "id": "hLlc17qrsck6"
      },
      "outputs": [],
      "source": [
        "dtype = torch.float\n",
        "device = torch.device(\"cuda:0\")\n",
        "torch.set_default_device(device)"
      ]
    },
    {
      "cell_type": "code",
      "execution_count": null,
      "metadata": {
        "id": "pnolElKGvv0O"
      },
      "outputs": [],
      "source": [
        "class NeuralNetwork(torch.nn.Module):\n",
        "  def __init__(self, n_inputs: int, n_hiddens_each_layer: List[int], n_outputs: int):\n",
        "    \"\"\"Creates a neural network with the given structure\n",
        "\n",
        "        Parameters\n",
        "        ----------\n",
        "        n_inputs : int\n",
        "            The number of values in each sample\n",
        "        n_hiddens_each_layer : List[int]\n",
        "            The number of units in each hidden layer.\n",
        "            Its length specifies the number of hidden layers.\n",
        "        n_outputs : int\n",
        "            The number of units in output layer\n",
        "\n",
        "        Returns\n",
        "        -------\n",
        "        NeuralNetwork object\n",
        "        \"\"\"\n",
        "    super(NeuralNetwork, self).__init__()\n",
        "    self.n_inputs = n_inputs\n",
        "    self.n_hiddens_each_layer = n_hiddens_each_layer\n",
        "    self.n_outputs = n_outputs\n",
        "    self.standardized = False\n",
        "\n",
        "    # create list of shapes of weight matrices for each layer\n",
        "    shapes = self._set_shapes()\n",
        "    self.shapes = shapes\n",
        "\n",
        "    # Build one-dimensional weight vector and view into weights\n",
        "    self.Ws = self._initialize_weights()\n",
        "    self._validate_weights()\n",
        "\n",
        "    self.X_means = None\n",
        "    self.X_stds = None\n",
        "    self.T_means = None\n",
        "    self.T_stds = None\n",
        "\n",
        "    self.n_epochs = 0\n",
        "    self.error_trace = []\n",
        "\n",
        "  def _set_shapes(self, W_shapes: List[int]=[]):\n",
        "    \"\"\"\n",
        "    Args:\n",
        "        W_shapes List[int]: empty list by default, will hold shapes of weights in each layer\n",
        "\n",
        "    Set shapes for weights in each layer.\n",
        "\n",
        "    Returns\n",
        "    -------\n",
        "    List of pairs of ints: Each pair is the shape of weights in a layer.\n",
        "    \"\"\"\n",
        "    if not self.n_hiddens_each_layer and self.n_outputs <= 0:\n",
        "      raise ValueError(\"Network must have at least one hidden layer or valid output units.\")\n",
        "\n",
        "    num_layers = len(self.n_hiddens_each_layer)\n",
        "\n",
        "    if num_layers >= 1:\n",
        "        for layer in range(num_layers):\n",
        "            units_in_layer = self.n_hiddens_each_layer[layer]\n",
        "            if layer == 0:\n",
        "                units_prev_layer = self.n_inputs\n",
        "            else:\n",
        "                units_prev_layer = self.n_hiddens_each_layer[layer - 1]\n",
        "            # add 1 to units_prev_layer for constant 1s, second is number of outputs in this layer\n",
        "            W_shapes.append((1 + units_prev_layer, units_in_layer))\n",
        "        # shape for output layer\n",
        "        W_shapes.append((1 + self.n_hiddens_each_layer[-1], self.n_outputs))\n",
        "    else:\n",
        "        W_shapes.append((1 + self.n_inputs, self.n_outputs))\n",
        "\n",
        "    return W_shapes\n",
        "\n",
        "  def _initialize_weights(self, verbose=False):\n",
        "      \"\"\"\n",
        "      Create weights for each layer using Xavier initialization.\n",
        "\n",
        "      Returns\n",
        "      -------\n",
        "      nn.ParameterList: Trainable weight matrices for each layer.\n",
        "      \"\"\"\n",
        "      if verbose:\n",
        "          print('Initializing gradients...')\n",
        "          print(f'Weight Shapes: {self.shapes}')\n",
        "\n",
        "      Ws = nn.ParameterList()  # Use ParameterList to manage trainable parameters\n",
        "      for shape in self.shapes:\n",
        "          n_in, n_out = shape  # Number of inputs and outputs for the layer\n",
        "\n",
        "          # Xavier scaling factor for uniform distribution\n",
        "          limit = math.sqrt(6 / (n_in + n_out))\n",
        "          layer_weight_matrix = torch.empty(n_in, n_out).uniform_(-limit, limit) # Create weight matrix with Xavier initialization\n",
        "\n",
        "          if torch.isnan(layer_weight_matrix).any() or torch.isinf(layer_weight_matrix).any():\n",
        "            print(f\"Invalid weights for layer with shape {shape}\")\n",
        "            raise ValueError(\"Weights contain Nan or Inf after initialization.\")\n",
        "\n",
        "          Ws.append(nn.Parameter(layer_weight_matrix))\n",
        "\n",
        "      return Ws\n",
        "\n",
        "  def _validate_weights(self):\n",
        "    for i, weights in enumerate(self.Ws):\n",
        "      if torch.isnan(weights).any() or torch.isinf(weights).any():\n",
        "          print(f\"NaN or Inf detected in weights of layer {i}\")\n",
        "\n",
        "  def _add_ones(self, X):\n",
        "        \"\"\"\n",
        "        Adds a column of ones to the input matrix X.\n",
        "\n",
        "        This function inserts a column of ones at the beginning (axis 1) of the input matrix X.\n",
        "        It is typically used to account for the bias term in the neural network's forward pass.\n",
        "\n",
        "        Parameters\n",
        "        ----------\n",
        "        X : Tensor\n",
        "            A 2D PyTorch Tensor where each row is a data sample and each column is a feature.\n",
        "\n",
        "        Returns\n",
        "        -------\n",
        "        PyTorch Tensor\n",
        "            The input tensor X with an additional column of ones inserted at the first position.\n",
        "            The resulting tensor has a shape of (m, n+1), where m is the number of samples\n",
        "            and n is the number of features.\n",
        "        \"\"\"\n",
        "        if torch.isnan(X).any() or torch.isinf(X).any():\n",
        "          print(\"NaN or Inf detected in input to _add_ones\")\n",
        "\n",
        "        ones_column = torch.ones(X.size(0), 1, device=X.device, dtype=X.dtype)\n",
        "        result = torch.cat((ones_column, X), dim=1)\n",
        "        if torch.isnan(result).any() or torch.isinf(result).any():\n",
        "            print(\"NaN or Inf detected in output of _add_ones\")\n",
        "        return result\n",
        "\n",
        "  def forward(self, x):\n",
        "      \"\"\"\n",
        "      In the forward pass we receive a Tensor containing the input and return\n",
        "      a Tensor containing the output. ctx is a context object that can be used\n",
        "      to stash information for backward computation. You can cache arbitrary\n",
        "      objects for use in the backward pass using the ctx.save_for_backward method.\n",
        "      \"\"\"\n",
        "      self.Zs = [x]\n",
        "      # iterate over all hidden layers\n",
        "      for weights in self.Ws[:-1]:\n",
        "        activation = (self._add_ones(self.Zs[-1]) @ weights)\n",
        "        # add clamping here\n",
        "        activation = torch.clamp(activation, min=-10, max=10)\n",
        "        # apply tanh activation function on all hidden layers\n",
        "        layer_output = torch.tanh(activation)\n",
        "        self.Zs.append(layer_output)\n",
        "\n",
        "      # output layer\n",
        "      Y = self._add_ones(self.Zs[-1]) @ self.Ws[-1]\n",
        "      self.Zs.append(Y)\n",
        "\n",
        "      return Y\n",
        "\n",
        "  def __repr__(self):\n",
        "      return f'NeuralNetwork({self.n_inputs}, {self.n_hiddens_each_layer}, {self.n_outputs})'"
      ]
    },
    {
      "cell_type": "code",
      "execution_count": null,
      "metadata": {
        "id": "OIDDjPzW8Iaf"
      },
      "outputs": [],
      "source": [
        "from enum import Enum\n",
        "from torch.utils.data import DataLoader, TensorDataset\n",
        "from torch import Tensor\n",
        "from typing import Optional\n",
        "\n",
        "class Optimizer(Enum):\n",
        "  SGD = 1\n",
        "  ADAMW = 2\n",
        "\n",
        "class ModelTrainer():\n",
        "  def __init__(self, optimizer: Optimizer, model: NeuralNetwork, lr=1e-4):\n",
        "    self.Optimizer = optimizer\n",
        "    self.model = model\n",
        "    self.lr = lr\n",
        "    self.error_trace = []\n",
        "\n",
        "  def train(\n",
        "      self,\n",
        "      model: NeuralNetwork,\n",
        "      Xtrain: Tensor,\n",
        "      Ttrain: Tensor,\n",
        "      Xvalidate: Tensor,\n",
        "      Tvalidate: Tensor,\n",
        "      n_epochs: int,\n",
        "      batch_size: int =-1,\n",
        "      optimizer: Optional[Optimizer] = Optimizer.SGD,\n",
        "      learning_rate: Optional[float] = None,\n",
        "      verbose: bool = True\n",
        "    ) -> None:\n",
        "    \"\"\"\n",
        "    Trains the neural network model.\n",
        "\n",
        "    Parameters\n",
        "    ----------\n",
        "    model : torch.nn.Module\n",
        "        The neural network to train.\n",
        "    Xtrain : torch.Tensor\n",
        "        Input tensor for training data.\n",
        "    Ttrain : torch.Tensor\n",
        "        Target tensor for training data.\n",
        "    Xvalidate : torch.Tensor\n",
        "        Input tensor for validation data.\n",
        "    Tvalidate : torch.Tensor\n",
        "        Target tensor for validation data.\n",
        "    n_epochs : int\n",
        "        Number of training epochs.\n",
        "    batch_size : int\n",
        "        Batch size for training. Use -1 for full-batch training.\n",
        "    optimizer : torch.optim.Optimizer, optional\n",
        "        Optimizer to use for training.\n",
        "    learning_rate : float, optional\n",
        "        Learning rate for the optimizer.\n",
        "    verbose : bool\n",
        "        Whether to print progress during training.\n",
        "\n",
        "    Returns\n",
        "    -------\n",
        "    None\n",
        "    \"\"\"\n",
        "    # if batch_size == -1 use all input data as batch\n",
        "    model.batch_size = batch_size if batch_size != -1 else model.n_inputs\n",
        "\n",
        "    if model.standardized is False:\n",
        "      Xtrain, Ttrain, Xvalidate, Tvalidate, model.X_means, model.X_stds, model.T_means, model.T_stds = self._standardize(Xtrain, Ttrain, Xvalidate, Tvalidate)\n",
        "      model.standardized = True\n",
        "\n",
        "    # Initialize Optimizers\n",
        "    optimizer = self._initializeOptimizer()\n",
        "    loss_fn = torch.nn.MSELoss(reduction='mean')\n",
        "\n",
        "    train_ds = TensorDataset(Xtrain, Ttrain)\n",
        "    valid_ds = TensorDataset(Xvalidate, Tvalidate)\n",
        "    train_dl, valid_dl = self.get_data(train_ds, valid_ds, model.batch_size)\n",
        "    self.fit(n_epochs, model, loss_fn, optimizer, train_dl, valid_dl)\n",
        "\n",
        "    print(\"Finished training run!\")\n",
        "\n",
        "  def fit(self, n_epochs, model, loss_fn, opt, train_dl, valid_dl):\n",
        "    for epoch in range(n_epochs):\n",
        "      model.train() # set to train mode\n",
        "      train_total_loss, train_samples = 0.0, 0\n",
        "      for X_batch, T_batch in train_dl:\n",
        "        train_batch_loss, train_batch_size = self.loss_batch(model, loss_fn, X_batch, T_batch, opt=opt)\n",
        "        train_total_loss += train_batch_loss * train_batch_size\n",
        "        train_samples += train_batch_size\n",
        "      train_loss = train_total_loss / train_samples\n",
        "\n",
        "      # eval model against Validation data\n",
        "      model.eval()  # Set model to evaluation mode\n",
        "      with torch.no_grad():  # No need to compute gradients during validation\n",
        "          total_loss, total_samples = 0.0, 0\n",
        "          for X_batch, T_batch in valid_dl:\n",
        "              batch_loss, batch_size = self.loss_batch(model, loss_fn, X_batch, T_batch)\n",
        "              total_loss += batch_loss * batch_size\n",
        "              total_samples += batch_size\n",
        "      val_loss = total_loss / total_samples\n",
        "      self.error_trace.append((train_loss, val_loss))\n",
        "\n",
        "      if n_epochs >= 0 and epoch % (n_epochs // 10) == 0:\n",
        "        print(f\"Epoch: {epoch}, Train loss: {train_loss}, Val Loss: {val_loss}\")\n",
        "\n",
        "  def loss_batch(self, model, loss_func, xb, tb, opt=None):\n",
        "    loss = loss_func(model(xb), tb)\n",
        "\n",
        "    if opt is not None:\n",
        "      # Zero gradients, perform a backward pass, and update the weights.\n",
        "      loss.backward()\n",
        "      opt.step()\n",
        "      opt.zero_grad()\n",
        "\n",
        "    return loss.item(), len(xb)\n",
        "\n",
        "  def get_data(self, train_ds, valid_ds, bs):\n",
        "    return (\n",
        "        DataLoader(train_ds, batch_size=bs, shuffle=True, generator=torch.Generator(device='cuda')),\n",
        "        DataLoader(valid_ds, batch_size=bs * 2)\n",
        "    )\n",
        "\n",
        "  def _standardize(self, Xtrain, Ttrain, Xvalidate, Tvalidate):\n",
        "      # Calculate and assign standardization parameters\n",
        "      X_means = torch.mean(Xtrain, dim=0)\n",
        "      X_stds = torch.std(Xtrain, dim=0)\n",
        "      X_stds[X_stds == 0] = 1  # Prevent division by zero\n",
        "\n",
        "      T_means = torch.mean(Ttrain, dim=0)\n",
        "      T_stds = torch.std(Ttrain, dim=0)\n",
        "      T_stds[T_stds == 0] = 1  # Prevent division by zero\n",
        "\n",
        "      # Standardize data\n",
        "      Xtrain_std = (Xtrain - X_means) / X_stds\n",
        "      Ttrain_std = (Ttrain - T_means) / T_stds\n",
        "      Xvalidate_std = (Xvalidate - X_means) / X_stds\n",
        "      Tvalidate_std = (Tvalidate - T_means) / T_stds\n",
        "\n",
        "      return Xtrain_std, Ttrain_std, Xvalidate_std, Tvalidate_std, X_means, X_stds, T_means, T_stds\n",
        "\n",
        "  def _initializeOptimizer(self):\n",
        "    if self.Optimizer == Optimizer.SGD:\n",
        "      optimizer = torch.optim.SGD(self.model.parameters(), lr=self.lr)\n",
        "    elif self.Optimizer == Optimizer.ADAMW:\n",
        "      optimizer = torch.optim.AdamW(self.model.parameters(), lr=self.lr)\n",
        "    else:\n",
        "      raise ValueError(f\"Unsupported optimizer type: {self.Optimizer}\")\n",
        "\n",
        "    return optimizer"
      ]
    },
    {
      "cell_type": "code",
      "execution_count": null,
      "metadata": {
        "colab": {
          "base_uri": "https://localhost:8080/"
        },
        "id": "ZbJOWcsORfU-",
        "outputId": "56b160d4-d0ec-41f3-cfff-2a8210c35c5c"
      },
      "outputs": [
        {
          "name": "stdout",
          "output_type": "stream",
          "text": [
            "Training set: X_train (160, 1), T_train (160, 1)\n",
            "Validation set: X_val (40, 1), T_val (40, 1)\n"
          ]
        },
        {
          "data": {
            "text/plain": [
              "(torch.Size([160, 1]),\n",
              " torch.Size([160, 1]),\n",
              " torch.Size([40, 1]),\n",
              " torch.Size([40, 1]))"
            ]
          },
          "execution_count": 174,
          "metadata": {},
          "output_type": "execute_result"
        }
      ],
      "source": [
        "import numpy as np\n",
        "from sklearn.model_selection import train_test_split\n",
        "\n",
        "X = np.linspace(0, 10, 200).reshape(-1, 1)\n",
        "T = np.sin(X)\n",
        "\n",
        "# Split into training and validation sets\n",
        "X, X_val, T, T_val = train_test_split(X, T, test_size=0.2, random_state=42)\n",
        "\n",
        "# Print shapes to verify split\n",
        "print(f\"Training set: X_train {X.shape}, T_train {T.shape}\")\n",
        "print(f\"Validation set: X_val {X_val.shape}, T_val {T_val.shape}\")\n",
        "\n",
        "# Convert to PyTorch tensors\n",
        "X_tensor = torch.tensor(X, dtype=torch.float32)\n",
        "T_tensor = torch.tensor(T, dtype=torch.float32)\n",
        "Xval_tensor = torch.tensor(X_val, dtype=torch.float32)\n",
        "Tval_tensor = torch.tensor(T_val, dtype=torch.float32)\n",
        "\n",
        "X_tensor.shape, T_tensor.shape, Xval_tensor.shape, Tval_tensor.shape"
      ]
    },
    {
      "cell_type": "code",
      "execution_count": null,
      "metadata": {
        "colab": {
          "base_uri": "https://localhost:8080/"
        },
        "id": "OQEL7IuaR9X5",
        "outputId": "e7532b78-d685-4d7d-ddab-f713deba913f"
      },
      "outputs": [
        {
          "name": "stdout",
          "output_type": "stream",
          "text": [
            "Epoch: 0, Train loss: 1.025652676820755, Val Loss: 0.8136724829673767\n",
            "Epoch: 15, Train loss: 1.0069014728069305, Val Loss: 0.8187220692634583\n",
            "Epoch: 30, Train loss: 0.9940111935138702, Val Loss: 0.8253135681152344\n",
            "Epoch: 45, Train loss: 0.9851004779338837, Val Loss: 0.8316842317581177\n",
            "Epoch: 60, Train loss: 0.9784286916255951, Val Loss: 0.8377314805984497\n",
            "Epoch: 75, Train loss: 0.9727732688188553, Val Loss: 0.8439966440200806\n",
            "Epoch: 90, Train loss: 0.9688079059123993, Val Loss: 0.8481042981147766\n",
            "Epoch: 105, Train loss: 0.9654664993286133, Val Loss: 0.8522607684135437\n",
            "Epoch: 120, Train loss: 0.962760902941227, Val Loss: 0.8549535870552063\n",
            "Epoch: 135, Train loss: 0.960203006863594, Val Loss: 0.8567686080932617\n",
            "Finished training run!\n"
          ]
        }
      ],
      "source": [
        "nnet = NeuralNetwork(X.shape[1], [20, 20, 10], 1)\n",
        "trainer = ModelTrainer(Optimizer.SGD, nnet, 0.001)\n",
        "trainer.train(nnet, X_tensor, T_tensor, Xval_tensor, Tval_tensor, n_epochs=150, batch_size=100)"
      ]
    },
    {
      "cell_type": "code",
      "execution_count": null,
      "metadata": {
        "colab": {
          "base_uri": "https://localhost:8080/"
        },
        "id": "Mh7V52ciX8T-",
        "outputId": "d6629d68-8629-4a36-e30b-eb22bb7747e7"
      },
      "outputs": [
        {
          "data": {
            "text/plain": [
              "ParameterList(\n",
              "    (0): Parameter containing: [torch.float32 of size 2x20 (cuda:0)]\n",
              "    (1): Parameter containing: [torch.float32 of size 21x20 (cuda:0)]\n",
              "    (2): Parameter containing: [torch.float32 of size 21x10 (cuda:0)]\n",
              "    (3): Parameter containing: [torch.float32 of size 11x1 (cuda:0)]\n",
              ")"
            ]
          },
          "execution_count": 176,
          "metadata": {},
          "output_type": "execute_result"
        }
      ],
      "source": [
        "nnet.Ws"
      ]
    },
    {
      "cell_type": "code",
      "execution_count": null,
      "metadata": {
        "colab": {
          "base_uri": "https://localhost:8080/"
        },
        "collapsed": true,
        "id": "2CWkmtvDTYsN",
        "outputId": "c27af1d5-7e4a-44e4-d0ea-54fdd3c1bc75"
      },
      "outputs": [
        {
          "data": {
            "text/plain": [
              "tensor([[-0.0495],\n",
              "        [-0.1157],\n",
              "        [-0.0380],\n",
              "        [-0.0483],\n",
              "        [-0.0781],\n",
              "        [-0.1149],\n",
              "        [-0.0438],\n",
              "        [-0.0528],\n",
              "        [-0.0903],\n",
              "        [-0.0542],\n",
              "        [-0.0731],\n",
              "        [-0.1054],\n",
              "        [-0.0539],\n",
              "        [-0.0805],\n",
              "        [-0.0750],\n",
              "        [-0.0456],\n",
              "        [-0.0886],\n",
              "        [-0.0624],\n",
              "        [-0.1049],\n",
              "        [-0.0611],\n",
              "        [-0.1035],\n",
              "        [-0.0617],\n",
              "        [-0.0422],\n",
              "        [-0.0568],\n",
              "        [-0.0395],\n",
              "        [-0.0762],\n",
              "        [-0.0366],\n",
              "        [-0.1124],\n",
              "        [-0.0569],\n",
              "        [-0.0864],\n",
              "        [-0.0362],\n",
              "        [-0.0811],\n",
              "        [-0.1001],\n",
              "        [-0.0369],\n",
              "        [-0.0756],\n",
              "        [-0.0724],\n",
              "        [-0.0465],\n",
              "        [-0.0881],\n",
              "        [-0.0638],\n",
              "        [-0.0711],\n",
              "        [-0.0495],\n",
              "        [-0.0482],\n",
              "        [-0.0360],\n",
              "        [-0.1116],\n",
              "        [-0.1133],\n",
              "        [-0.0535],\n",
              "        [-0.0996],\n",
              "        [-0.0390],\n",
              "        [-0.1128],\n",
              "        [-0.0392],\n",
              "        [-0.0502],\n",
              "        [-0.0892],\n",
              "        [-0.0645],\n",
              "        [-0.0408],\n",
              "        [-0.0569],\n",
              "        [-0.1145],\n",
              "        [-0.0987],\n",
              "        [-0.0549],\n",
              "        [-0.0456],\n",
              "        [-0.0769],\n",
              "        [-0.0527],\n",
              "        [-0.0415],\n",
              "        [-0.0897],\n",
              "        [-0.0914],\n",
              "        [-0.0698],\n",
              "        [-0.0908],\n",
              "        [-0.0569],\n",
              "        [-0.0396],\n",
              "        [-0.0718],\n",
              "        [-0.0919],\n",
              "        [-0.1021],\n",
              "        [-0.0453],\n",
              "        [-0.1161],\n",
              "        [-0.0956],\n",
              "        [-0.0438],\n",
              "        [-0.0787],\n",
              "        [-0.0406],\n",
              "        [-0.0362],\n",
              "        [-0.1006],\n",
              "        [-0.0447],\n",
              "        [-0.0372],\n",
              "        [-0.0692],\n",
              "        [-0.0966],\n",
              "        [-0.0971],\n",
              "        [-0.0474],\n",
              "        [-0.0492],\n",
              "        [-0.1103],\n",
              "        [-0.0925],\n",
              "        [-0.0508],\n",
              "        [-0.0376],\n",
              "        [-0.1030],\n",
              "        [-0.0359],\n",
              "        [-0.0597],\n",
              "        [-0.0961],\n",
              "        [-0.0364],\n",
              "        [-0.0875],\n",
              "        [-0.0512],\n",
              "        [-0.0672],\n",
              "        [-0.0365],\n",
              "        [-0.0847],\n",
              "        [-0.1085],\n",
              "        [-0.1076],\n",
              "        [-0.1107],\n",
              "        [-0.0360],\n",
              "        [-0.0501],\n",
              "        [-0.0401],\n",
              "        [-0.0557],\n",
              "        [-0.0705],\n",
              "        [-0.0576],\n",
              "        [-0.0521],\n",
              "        [-0.1067],\n",
              "        [-0.1090],\n",
              "        [-0.0562],\n",
              "        [-0.0563],\n",
              "        [-0.0565],\n",
              "        [-0.0383],\n",
              "        [-0.1044],\n",
              "        [-0.0835],\n",
              "        [-0.0544],\n",
              "        [-0.0450],\n",
              "        [-0.1063],\n",
              "        [-0.0852],\n",
              "        [-0.1026],\n",
              "        [-0.1098],\n",
              "        [-0.0401],\n",
              "        [-0.0368],\n",
              "        [-0.0685],\n",
              "        [-0.0361],\n",
              "        [-0.1153],\n",
              "        [-0.0380],\n",
              "        [-0.0359],\n",
              "        [-0.0556],\n",
              "        [-0.0511],\n",
              "        [-0.0376],\n",
              "        [-0.0992],\n",
              "        [-0.1137],\n",
              "        [-0.0823],\n",
              "        [-0.0385],\n",
              "        [-0.0977],\n",
              "        [-0.1141],\n",
              "        [-0.0475],\n",
              "        [-0.0363],\n",
              "        [-0.0935],\n",
              "        [-0.0829],\n",
              "        [-0.0946],\n",
              "        [-0.0658],\n",
              "        [-0.0631],\n",
              "        [-0.0743],\n",
              "        [-0.0549],\n",
              "        [-0.0462],\n",
              "        [-0.0775],\n",
              "        [-0.1165],\n",
              "        [-0.0520],\n",
              "        [-0.1120],\n",
              "        [-0.0444],\n",
              "        [-0.0678],\n",
              "        [-0.0561],\n",
              "        [-0.0583],\n",
              "        [-0.1081],\n",
              "        [-0.0651]], device='cuda:0', grad_fn=<MmBackward0>)"
            ]
          },
          "execution_count": 177,
          "metadata": {},
          "output_type": "execute_result"
        }
      ],
      "source": [
        "# no need for inference()/use() functions when our NeuralNet class\n",
        "# inherits torch.nn.Module. Can call forward function with the class instance itself\n",
        "nnet(X_tensor)"
      ]
    },
    {
      "cell_type": "markdown",
      "metadata": {
        "id": "e_PIp02HYYd1"
      },
      "source": [
        "# More Detailed Example Use"
      ]
    },
    {
      "cell_type": "code",
      "execution_count": null,
      "metadata": {
        "colab": {
          "base_uri": "https://localhost:8080/"
        },
        "id": "vSD5YzlmYdMh",
        "outputId": "49956942-f99a-4c99-c999-e35e37cc6ecb"
      },
      "outputs": [
        {
          "data": {
            "text/plain": [
              "(torch.Size([80, 1]),\n",
              " torch.Size([80, 1]),\n",
              " torch.Size([80, 1]),\n",
              " torch.Size([80, 1]),\n",
              " torch.Size([80, 1]),\n",
              " torch.Size([80, 1]))"
            ]
          },
          "execution_count": 178,
          "metadata": {},
          "output_type": "execute_result"
        }
      ],
      "source": [
        "# init train data as Pytorch Tensors\n",
        "Xtrain = torch.arange(-2, 2, 0.05).reshape(-1, 1)\n",
        "Ttrain = torch.sin(Xtrain) * torch.sin(Xtrain * 5)\n",
        "# Validation data\n",
        "Xval = Xtrain * 1.1\n",
        "Tval = Ttrain + 0.2 * Xtrain\n",
        "# Test data\n",
        "Xtest = Xtrain * 0.97\n",
        "Ttest = Ttrain + 0.15 * Xtrain\n",
        "\n",
        "Xtrain.shape, Ttrain.shape, Xval.shape, Tval.shape, Xtest.shape, Ttest.shape"
      ]
    },
    {
      "cell_type": "code",
      "execution_count": null,
      "metadata": {
        "colab": {
          "base_uri": "https://localhost:8080/"
        },
        "id": "L2ybUCKRZMEj",
        "outputId": "adfdcb65-9a83-4d1a-d85c-6c339da1a140"
      },
      "outputs": [
        {
          "name": "stdout",
          "output_type": "stream",
          "text": [
            "Epoch: 0, Train loss: 1.153131844091058, Val Loss: 1.2313922978413756\n",
            "Epoch: 100, Train loss: 0.8789210948503751, Val Loss: 1.0310044342651963\n",
            "Epoch: 200, Train loss: 0.6280863240747749, Val Loss: 0.9294937088619918\n",
            "Epoch: 300, Train loss: 0.6182256180909462, Val Loss: 0.922134662931785\n",
            "Epoch: 400, Train loss: 0.6001902441909805, Val Loss: 0.9024488654918968\n",
            "Epoch: 500, Train loss: 0.4378193076823663, Val Loss: 0.6745024447329342\n",
            "Epoch: 600, Train loss: 0.32910485645470544, Val Loss: 0.5915147294523194\n",
            "Epoch: 700, Train loss: 0.3100053051664872, Val Loss: 0.6391217289841734\n",
            "Epoch: 800, Train loss: 0.4384468462527821, Val Loss: 0.6451249355974141\n",
            "Epoch: 900, Train loss: 0.2791620700409226, Val Loss: 0.47623373444657774\n",
            "Finished training run!\n"
          ]
        }
      ],
      "source": [
        "import matplotlib.pyplot as plt\n",
        "\n",
        "nnet = NeuralNetwork(Xtrain.shape[1], [10, 10], 1)\n",
        "trainer = ModelTrainer(Optimizer.SGD, nnet, 0.001)\n",
        "trainer.train(nnet, Xtrain, Ttrain, Xval, Tval, n_epochs=1000, batch_size=-1)"
      ]
    },
    {
      "cell_type": "code",
      "execution_count": null,
      "metadata": {
        "colab": {
          "base_uri": "https://localhost:8080/",
          "height": 487
        },
        "id": "Ff0KGUBccMi0",
        "outputId": "74563e68-431b-4243-9a04-4d04c4c6c3bf"
      },
      "outputs": [
        {
          "data": {
            "image/png": "[encoded data removed]",
            "text/plain": [
              "<Figure size 640x480 with 1 Axes>"
            ]
          },
          "metadata": {},
          "output_type": "display_data"
        }
      ],
      "source": [
        "Ytrain = nnet(Xtrain)\n",
        "plt.plot(Xtrain.cpu().detach().numpy(), Ytrain.cpu().detach().numpy(), '-', label='Predictions')\n",
        "plt.plot(Xtrain.cpu().detach().numpy(), Ttrain.cpu().detach().numpy(), 'o', label='Targets')\n",
        "plt.xlabel('X')\n",
        "plt.ylabel('Y')\n",
        "plt.legend()\n",
        "plt.tight_layout()"
      ]
    },
    {
      "cell_type": "code",
      "execution_count": null,
      "metadata": {
        "colab": {
          "base_uri": "https://localhost:8080/",
          "height": 487
        },
        "id": "580Mxu5Lhyze",
        "outputId": "ac53b94c-84eb-499d-9c49-7fb9d5a570ad"
      },
      "outputs": [
        {
          "data": {
            "image/png": "[encoded data removed]",
            "text/plain": [
              "<Figure size 640x480 with 1 Axes>"
            ]
          },
          "metadata": {},
          "output_type": "display_data"
        }
      ],
      "source": [
        "# Extract training and validation errors\n",
        "train_errors = [entry[0] for entry in trainer.error_trace]\n",
        "val_errors = [entry[1] for entry in trainer.error_trace]\n",
        "\n",
        "# Plot the errors\n",
        "plt.plot(train_errors, label=\"Training Error\")\n",
        "plt.plot(val_errors, label=\"Validation Error\")\n",
        "\n",
        "# Add labels and legend\n",
        "plt.xlabel(\"Epoch\")\n",
        "plt.ylabel(\"Error\")\n",
        "plt.title(\"Training and Validation Error\")\n",
        "plt.legend()"
      ]
    },
    {
      "cell_type": "markdown",
      "metadata": {
        "id": "Hu6NP8YFWAvh"
      },
      "source": [
        "## Apply NeuralNetwork PyTorch Implementation to MNIST dataset"
      ]
    },
    {
      "cell_type": "code",
      "execution_count": null,
      "metadata": {
        "id": "qAx2BxHFUkwE"
      },
      "outputs": [],
      "source": [
        "from pathlib import Path\n",
        "import requests\n",
        "\n",
        "DATA_PATH = Path(\"data\")\n",
        "PATH = DATA_PATH / \"mnist\"\n",
        "\n",
        "PATH.mkdir(parents=True, exist_ok=True)\n",
        "\n",
        "URL = \"https://github.com/pytorch/tutorials/raw/main/_static/\"\n",
        "FILENAME = \"mnist.pkl.gz\"\n",
        "\n",
        "if not (PATH / FILENAME).exists():\n",
        "        content = requests.get(URL + FILENAME).content\n",
        "        (PATH / FILENAME).open(\"wb\").write(content)"
      ]
    },
    {
      "cell_type": "code",
      "execution_count": null,
      "metadata": {
        "id": "eoWiewm0WKHe"
      },
      "outputs": [],
      "source": [
        "# load mnist data form pickle format\n",
        "import pickle\n",
        "import gzip\n",
        "\n",
        "with gzip.open((PATH / FILENAME).as_posix(), \"rb\") as f:\n",
        "        ((x_train, y_train), (x_valid, y_valid), _) = pickle.load(f, encoding=\"latin-1\")"
      ]
    },
    {
      "cell_type": "code",
      "execution_count": null,
      "metadata": {
        "colab": {
          "base_uri": "https://localhost:8080/",
          "height": 445
        },
        "id": "dClBpZNhWSkC",
        "outputId": "cf48050f-b781-4785-c089-32de70b12005"
      },
      "outputs": [
        {
          "name": "stdout",
          "output_type": "stream",
          "text": [
            "(50000, 784)\n"
          ]
        },
        {
          "data": {
            "image/png": "[encoded data removed]",
            "text/plain": [
              "<Figure size 640x480 with 1 Axes>"
            ]
          },
          "metadata": {},
          "output_type": "display_data"
        }
      ],
      "source": [
        "from matplotlib import pyplot\n",
        "import numpy as np\n",
        "\n",
        "pyplot.imshow(x_train[0].reshape((28, 28)), cmap=\"gray\")\n",
        "# ``pyplot.show()`` only if not on Colab\n",
        "try:\n",
        "    import google.colab\n",
        "except ImportError:\n",
        "    pyplot.show()\n",
        "print(x_train.shape)"
      ]
    },
    {
      "cell_type": "code",
      "execution_count": null,
      "metadata": {
        "colab": {
          "base_uri": "https://localhost:8080/"
        },
        "id": "-f56os3OWgpW",
        "outputId": "7117da11-11aa-4c24-c0c2-55bdb8c4c686"
      },
      "outputs": [
        {
          "name": "stdout",
          "output_type": "stream",
          "text": [
            "tensor([[0., 0., 0.,  ..., 0., 0., 0.],\n",
            "        [0., 0., 0.,  ..., 0., 0., 0.],\n",
            "        [0., 0., 0.,  ..., 0., 0., 0.],\n",
            "        ...,\n",
            "        [0., 0., 0.,  ..., 0., 0., 0.],\n",
            "        [0., 0., 0.,  ..., 0., 0., 0.],\n",
            "        [0., 0., 0.,  ..., 0., 0., 0.]], device='cuda:0') tensor([5, 0, 4,  ..., 8, 4, 8], device='cuda:0')\n",
            "torch.Size([50000, 784])\n",
            "tensor(0, device='cuda:0') tensor(9, device='cuda:0')\n"
          ]
        }
      ],
      "source": [
        "# convert input data from numpy arrays to torch tensors\n",
        "x_train, y_train, x_valid, y_valid = map(\n",
        "    torch.tensor, (x_train, y_train, x_valid, y_valid)\n",
        ")\n",
        "n, c = x_train.shape\n",
        "print(x_train, y_train)\n",
        "print(x_train.shape)\n",
        "print(y_train.min(), y_train.max())"
      ]
    },
    {
      "cell_type": "code",
      "execution_count": null,
      "metadata": {
        "id": "t6QzByb_WsRL"
      },
      "outputs": [],
      "source": []
    },
    {
      "cell_type": "code",
      "execution_count": null,
      "metadata": {
        "id": "YPFL-X6xYb0v"
      },
      "outputs": [],
      "source": []
    }
  ],
  "metadata": {
    "accelerator": "GPU",
    "colab": {
      "gpuType": "A100",
      "machine_shape": "hm",
      "provenance": []
    },
    "kernelspec": {
      "display_name": "Python 3",
      "name": "python3"
    },
    "language_info": {
      "name": "python"
    }
  },
  "nbformat": 4,
  "nbformat_minor": 0
}
