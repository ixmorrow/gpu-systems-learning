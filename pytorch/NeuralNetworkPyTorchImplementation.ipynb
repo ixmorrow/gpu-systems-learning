{
  "cells": [
    {
      "cell_type": "code",
      "execution_count": 70,
      "metadata": {
        "id": "DvMCJpgEsBs5"
      },
      "outputs": [],
      "source": [
        "import torch\n",
        "import torch.nn as nn\n",
        "import math\n",
        "from typing import List\n",
        "from collections import OrderedDict"
      ]
    },
    {
      "cell_type": "code",
      "execution_count": 71,
      "metadata": {
        "id": "hLlc17qrsck6"
      },
      "outputs": [],
      "source": [
        "dtype = torch.float\n",
        "device = torch.device(\"cuda:0\")\n",
        "torch.set_default_device(device)"
      ]
    },
    {
      "cell_type": "code",
      "execution_count": 72,
      "metadata": {
        "id": "pnolElKGvv0O"
      },
      "outputs": [],
      "source": [
        "class NeuralNetwork(torch.nn.Module):\n",
        "  def __init__(self, n_inputs: int, n_hiddens_each_layer: List[int], n_outputs: int):\n",
        "    \"\"\"Creates a neural network with the given structure\n",
        "\n",
        "        Args:\n",
        "        ----------\n",
        "        n_inputs : int\n",
        "            The number of values in each sample\n",
        "        n_hiddens_each_layer : List[int]\n",
        "            The number of units in each hidden layer.\n",
        "            Its length specifies the number of hidden layers.\n",
        "        n_outputs : int\n",
        "            The number of units in output layer\n",
        "\n",
        "        Returns\n",
        "        -------\n",
        "        NeuralNetwork object\n",
        "        \"\"\"\n",
        "    super(NeuralNetwork, self).__init__()\n",
        "    self.n_inputs = n_inputs\n",
        "    self.n_hiddens_each_layer = n_hiddens_each_layer\n",
        "    self.n_outputs = n_outputs\n",
        "    self.standardized = False\n",
        "\n",
        "    # create list of shapes of weight matrices for each layer\n",
        "    shapes = self._set_shapes()\n",
        "    self.shapes = shapes\n",
        "\n",
        "    self.model = self._build_model()\n",
        "    self.model.apply(self.initialize_weights)\n",
        "\n",
        "    self.X_means = None\n",
        "    self.X_stds = None\n",
        "    self.T_means = None\n",
        "    self.T_stds = None\n",
        "\n",
        "    self.n_epochs = 0\n",
        "    self.error_trace = []\n",
        "\n",
        "  def _set_shapes(self, W_shapes: List[int]=[]):\n",
        "    \"\"\"\n",
        "    Args:\n",
        "        W_shapes List[int]: empty list by default, will hold shapes of weights in each layer\n",
        "\n",
        "    Set shapes for weights in each layer.\n",
        "\n",
        "    Returns\n",
        "    -------\n",
        "    List of pairs of ints: Each pair is the shape of weights in a layer.\n",
        "    \"\"\"\n",
        "    if not self.n_hiddens_each_layer and self.n_outputs <= 0:\n",
        "      raise ValueError(\"Network must have at least one hidden layer or valid output units.\")\n",
        "\n",
        "    num_layers = len(self.n_hiddens_each_layer)\n",
        "\n",
        "    if num_layers >= 1:\n",
        "        for layer in range(num_layers):\n",
        "            units_in_layer = self.n_hiddens_each_layer[layer]\n",
        "            if layer == 0:\n",
        "                units_prev_layer = self.n_inputs\n",
        "            else:\n",
        "                units_prev_layer = self.n_hiddens_each_layer[layer - 1]\n",
        "            W_shapes.append((units_prev_layer, units_in_layer)) # remove add 1 for bias, Linear takes care of it\n",
        "        # shape for output layer\n",
        "        W_shapes.append((self.n_hiddens_each_layer[-1], self.n_outputs))\n",
        "    else:\n",
        "        W_shapes.append((self.n_inputs, self.n_outputs))\n",
        "\n",
        "    return W_shapes\n",
        "\n",
        "  def _build_model(self, activation_fn=nn.Tanh, use_bias=True):\n",
        "    \"\"\"\n",
        "    Dynamically builds a Sequential model based on weight shapes.\n",
        "\n",
        "    Args:\n",
        "        activation_fn (callable): Activation function class (default: nn.Tanh).\n",
        "        use_bias (bool): Whether to include bias in Linear layers (default: True).\n",
        "\n",
        "    Returns:\n",
        "        nn.Sequential: A Sequential model with specified layers and activations.\n",
        "    \"\"\"\n",
        "    layers = []\n",
        "    for i, shape in enumerate(self.shapes[:-1]):\n",
        "      if not isinstance(shape, (tuple, list)) or len(shape) != 2:\n",
        "            raise ValueError(f\"Invalid shape at index {i}: {shape}. Each shape must be a tuple of two integers.\")\n",
        "      layers.append((f\"layer_{i}\", nn.Linear(*shape)))\n",
        "      # layers.append(Clamp(min=-10, max=10))  # Add clamping\n",
        "      layers.append((f\"activation_{i}\", activation_fn()))\n",
        "    # Output layer (no activation)\n",
        "    layers.append((f\"output_layer\", nn.Linear(*self.shapes[-1])))\n",
        "\n",
        "    return nn.Sequential(OrderedDict(layers))\n",
        "\n",
        "  def initialize_weights(self, layer):\n",
        "    \"\"\"\n",
        "      Create weights for each layer using Xavier initialization.\n",
        "    \"\"\"\n",
        "    if isinstance(layer, nn.Linear):\n",
        "        nn.init.xavier_uniform_(layer.weight)\n",
        "        if layer.bias is not None:\n",
        "            nn.init.zeros_(layer.bias)\n",
        "\n",
        "  def _create_params(self, size, lower_limt=0, upper_limit=0.01):\n",
        "    return nn.Parameter(torch.zeros(*size).normal_(lower_limt, upper_limit))\n",
        "\n",
        "  def _create_param(self, size):\n",
        "    return nn.Parameter(torch.zeros(*size).normal_(0, 0.01))\n",
        "\n",
        "  def forward(self, x):\n",
        "      \"\"\"\n",
        "      Defines the forward pass of the model.\n",
        "\n",
        "      Args:\n",
        "          x (torch.Tensor): Input tensor with shape (batch_size, input_features).\n",
        "                            Represents the input data to the model.\n",
        "\n",
        "      Returns:\n",
        "          torch.Tensor: Output tensor after passing through the model's layers.\n",
        "                        The shape depends on the final layer of the model, typically\n",
        "                        (batch_size, output_features).\n",
        "\n",
        "      This method applies the layers defined in the model sequentially to the input tensor.\n",
        "      It is called automatically when the model is invoked, e.g., `output = model(input)`.\n",
        "      \"\"\"\n",
        "      return self.model(x)\n",
        "\n",
        "  def __repr__(self):\n",
        "      return f'NeuralNetwork({self.n_inputs}, {self.n_hiddens_each_layer}, {self.n_outputs})'"
      ]
    },
    {
      "cell_type": "code",
      "execution_count": 73,
      "metadata": {
        "id": "OIDDjPzW8Iaf"
      },
      "outputs": [],
      "source": [
        "from enum import Enum\n",
        "from torch.utils.data import DataLoader, TensorDataset\n",
        "from torch import Tensor\n",
        "from typing import Optional\n",
        "\n",
        "class Optimizer(Enum):\n",
        "  SGD = 1\n",
        "  ADAMW = 2\n",
        "\n",
        "class ModelTrainer():\n",
        "  def __init__(self, optimizer: Optimizer, nnet: NeuralNetwork, lr=1e-4):\n",
        "    self.Optimizer = optimizer\n",
        "    self.nnet = nnet\n",
        "    self.lr = lr\n",
        "    self.error_trace = []\n",
        "\n",
        "  def train(\n",
        "      self,\n",
        "      nnet: NeuralNetwork,\n",
        "      Xtrain: Tensor,\n",
        "      Ttrain: Tensor,\n",
        "      Xvalidate: Tensor,\n",
        "      Tvalidate: Tensor,\n",
        "      n_epochs: int,\n",
        "      batch_size: int =-1,\n",
        "      optimizer: Optional[Optimizer] = Optimizer.SGD,\n",
        "      learning_rate: Optional[float] = None,\n",
        "      verbose: bool = True\n",
        "    ) -> None:\n",
        "    \"\"\"\n",
        "    Trains the neural network model.\n",
        "\n",
        "    Args:\n",
        "    ----------\n",
        "    nnet : torch.nn.Module\n",
        "        The neural network to train.\n",
        "    Xtrain : torch.Tensor\n",
        "        Input tensor for training data.\n",
        "    Ttrain : torch.Tensor\n",
        "        Target tensor for training data.\n",
        "    Xvalidate : torch.Tensor\n",
        "        Input tensor for validation data.\n",
        "    Tvalidate : torch.Tensor\n",
        "        Target tensor for validation data.\n",
        "    n_epochs : int\n",
        "        Number of training epochs.\n",
        "    batch_size : int\n",
        "        Batch size for training. Use -1 for full-batch training.\n",
        "    optimizer : torch.optim.Optimizer, optional\n",
        "        Optimizer to use for training.\n",
        "    learning_rate : float, optional\n",
        "        Learning rate for the optimizer.\n",
        "    verbose : bool\n",
        "        Whether to print progress during training.\n",
        "\n",
        "    Returns\n",
        "    -------\n",
        "    None\n",
        "    \"\"\"\n",
        "    # if batch_size == -1 use all input data as batch\n",
        "    nnet.batch_size = batch_size if batch_size != -1 else nnet.n_inputs\n",
        "\n",
        "    if nnet.standardized is False:\n",
        "      Xtrain, Ttrain, Xvalidate, Tvalidate, nnet.X_means, nnet.X_stds, nnet.T_means, nnet.T_stds = self._standardize(Xtrain, Ttrain, Xvalidate, Tvalidate)\n",
        "      nnet.standardized = True\n",
        "\n",
        "    # Initialize Optimizers\n",
        "    optimizer = self._initializeOptimizer()\n",
        "    loss_fn = torch.nn.MSELoss(reduction='mean')\n",
        "\n",
        "    train_ds = TensorDataset(Xtrain, Ttrain)\n",
        "    valid_ds = TensorDataset(Xvalidate, Tvalidate)\n",
        "    train_dl, valid_dl = self.get_data(train_ds, valid_ds, nnet.batch_size)\n",
        "    self.fit(n_epochs, nnet, loss_fn, optimizer, train_dl, valid_dl)\n",
        "\n",
        "    print(\"Finished training run!\")\n",
        "\n",
        "  def fit(self, n_epochs, nnet, loss_fn, opt, train_dl, valid_dl):\n",
        "    for epoch in range(n_epochs):\n",
        "      nnet.train() # set to train mode\n",
        "      train_total_loss, train_samples = 0.0, 0\n",
        "      for X_batch, T_batch in train_dl:\n",
        "        train_batch_loss, train_batch_size = self.loss_batch(nnet, loss_fn, X_batch, T_batch, opt=opt)\n",
        "        train_total_loss += train_batch_loss * train_batch_size\n",
        "        train_samples += train_batch_size\n",
        "      train_loss = train_total_loss / train_samples\n",
        "\n",
        "      # eval model against Validation data\n",
        "      nnet.eval()  # Set model to evaluation mode\n",
        "      with torch.no_grad():  # No need to compute gradients during validation\n",
        "          total_loss, total_samples = 0.0, 0\n",
        "          for X_batch, T_batch in valid_dl:\n",
        "              batch_loss, batch_size = self.loss_batch(nnet, loss_fn, X_batch, T_batch)\n",
        "              total_loss += batch_loss * batch_size\n",
        "              total_samples += batch_size\n",
        "      val_loss = total_loss / total_samples\n",
        "      self.error_trace.append((train_loss, val_loss))\n",
        "\n",
        "      if n_epochs >= 0 and epoch % (n_epochs // 10) == 0:\n",
        "        print(f\"Epoch: {epoch}, Train loss: {train_loss}, Val Loss: {val_loss}\")\n",
        "\n",
        "  def loss_batch(self, nnet, loss_func, xb, tb, opt=None):\n",
        "    loss = loss_func(nnet(xb), tb)\n",
        "\n",
        "    if opt is not None:\n",
        "      # Zero gradients, perform a backward pass, and update the weights.\n",
        "      loss.backward()\n",
        "      opt.step()\n",
        "      opt.zero_grad()\n",
        "\n",
        "    return loss.item(), len(xb)\n",
        "\n",
        "  def get_data(self, train_ds, valid_ds, bs):\n",
        "    return (\n",
        "        DataLoader(train_ds, batch_size=bs, shuffle=True, generator=torch.Generator(device='cuda')),\n",
        "        DataLoader(valid_ds, batch_size=bs * 2)\n",
        "    )\n",
        "\n",
        "  def _standardize(self, Xtrain, Ttrain, Xvalidate, Tvalidate):\n",
        "      # Calculate and assign standardization parameters\n",
        "      X_means = torch.mean(Xtrain, dim=0)\n",
        "      X_stds = torch.std(Xtrain, dim=0)\n",
        "      X_stds[X_stds == 0] = 1  # Prevent division by zero\n",
        "\n",
        "      T_means = torch.mean(Ttrain, dim=0)\n",
        "      T_stds = torch.std(Ttrain, dim=0)\n",
        "      T_stds[T_stds == 0] = 1  # Prevent division by zero\n",
        "\n",
        "      # Standardize data\n",
        "      Xtrain_std = (Xtrain - X_means) / X_stds\n",
        "      Ttrain_std = (Ttrain - T_means) / T_stds\n",
        "      Xvalidate_std = (Xvalidate - X_means) / X_stds\n",
        "      Tvalidate_std = (Tvalidate - T_means) / T_stds\n",
        "\n",
        "      return Xtrain_std, Ttrain_std, Xvalidate_std, Tvalidate_std, X_means, X_stds, T_means, T_stds\n",
        "\n",
        "  def _initializeOptimizer(self):\n",
        "    if self.Optimizer == Optimizer.SGD:\n",
        "      optimizer = torch.optim.SGD(self.nnet.parameters(), lr=self.lr, momentum=0.001)\n",
        "    elif self.Optimizer == Optimizer.ADAMW:\n",
        "      optimizer = torch.optim.AdamW(self.nnet.parameters(), lr=self.lr)\n",
        "    else:\n",
        "      raise ValueError(f\"Unsupported optimizer type: {self.Optimizer}\")\n",
        "\n",
        "    return optimizer"
      ]
    },
    {
      "cell_type": "code",
      "execution_count": 74,
      "metadata": {
        "colab": {
          "base_uri": "https://localhost:8080/"
        },
        "id": "ZbJOWcsORfU-",
        "outputId": "b3d2a64c-abdd-4e53-f022-f41183f9e2b5"
      },
      "outputs": [
        {
          "name": "stdout",
          "output_type": "stream",
          "text": [
            "Training set: X_train (160, 1), T_train (160, 1)\n",
            "Validation set: X_val (40, 1), T_val (40, 1)\n"
          ]
        },
        {
          "data": {
            "text/plain": [
              "(torch.Size([160, 1]),\n",
              " torch.Size([160, 1]),\n",
              " torch.Size([40, 1]),\n",
              " torch.Size([40, 1]))"
            ]
          },
          "execution_count": 74,
          "metadata": {},
          "output_type": "execute_result"
        }
      ],
      "source": [
        "import numpy as np\n",
        "from sklearn.model_selection import train_test_split\n",
        "\n",
        "X = np.linspace(0, 10, 200).reshape(-1, 1)\n",
        "T = np.sin(X)\n",
        "\n",
        "# Split into training and validation sets\n",
        "X, X_val, T, T_val = train_test_split(X, T, test_size=0.2, random_state=42)\n",
        "\n",
        "# Print shapes to verify split\n",
        "print(f\"Training set: X_train {X.shape}, T_train {T.shape}\")\n",
        "print(f\"Validation set: X_val {X_val.shape}, T_val {T_val.shape}\")\n",
        "\n",
        "# Convert to PyTorch tensors\n",
        "X_tensor = torch.tensor(X, dtype=torch.float32)\n",
        "T_tensor = torch.tensor(T, dtype=torch.float32)\n",
        "Xval_tensor = torch.tensor(X_val, dtype=torch.float32)\n",
        "Tval_tensor = torch.tensor(T_val, dtype=torch.float32)\n",
        "\n",
        "X_tensor.shape, T_tensor.shape, Xval_tensor.shape, Tval_tensor.shape"
      ]
    },
    {
      "cell_type": "code",
      "execution_count": 75,
      "metadata": {
        "colab": {
          "base_uri": "https://localhost:8080/"
        },
        "id": "OQEL7IuaR9X5",
        "outputId": "d0b1e95e-b509-42b7-eff9-7d66e25c2818"
      },
      "outputs": [
        {
          "name": "stdout",
          "output_type": "stream",
          "text": [
            "Epoch: 0, Train loss: 1.0743754357099533, Val Loss: 0.8375653624534607\n",
            "Epoch: 100, Train loss: 0.9667407125234604, Val Loss: 0.9123005867004395\n",
            "Epoch: 200, Train loss: 0.9453529939055443, Val Loss: 0.8851886987686157\n",
            "Epoch: 300, Train loss: 0.9210948199033737, Val Loss: 0.8561833500862122\n",
            "Epoch: 400, Train loss: 0.8928000032901764, Val Loss: 0.8177362680435181\n",
            "Epoch: 500, Train loss: 0.8573935478925705, Val Loss: 0.7761091589927673\n",
            "Epoch: 600, Train loss: 0.8142193183302879, Val Loss: 0.7249690890312195\n",
            "Epoch: 700, Train loss: 0.7636859863996506, Val Loss: 0.6704152822494507\n",
            "Epoch: 800, Train loss: 0.707849882543087, Val Loss: 0.6062465310096741\n",
            "Epoch: 900, Train loss: 0.6492766663432121, Val Loss: 0.5440466403961182\n",
            "Finished training run!\n"
          ]
        }
      ],
      "source": [
        "nnet = NeuralNetwork(X.shape[1], [20, 20, 10], 1)\n",
        "trainer = ModelTrainer(Optimizer.SGD, nnet, 0.001)\n",
        "trainer.train(nnet, X_tensor, T_tensor, Xval_tensor, Tval_tensor, n_epochs=1000, batch_size=100)"
      ]
    },
    {
      "cell_type": "code",
      "execution_count": 76,
      "metadata": {
        "colab": {
          "base_uri": "https://localhost:8080/"
        },
        "id": "WzWj5SHF9FuZ",
        "outputId": "c58e2916-42dd-4b2b-9470-e4f78d05420d"
      },
      "outputs": [
        {
          "data": {
            "text/plain": [
              "(<generator object Module.parameters at 0x7fde62066880>,\n",
              " <generator object Module.parameters at 0x7fde62067f40>)"
            ]
          },
          "execution_count": 76,
          "metadata": {},
          "output_type": "execute_result"
        }
      ],
      "source": [
        "nnet.model.parameters(), nnet.parameters()"
      ]
    },
    {
      "cell_type": "code",
      "execution_count": 77,
      "metadata": {
        "colab": {
          "base_uri": "https://localhost:8080/"
        },
        "id": "Mh7V52ciX8T-",
        "outputId": "00c5fdda-5ef0-4707-8079-cad9bedde575"
      },
      "outputs": [
        {
          "data": {
            "text/plain": [
              "Sequential(\n",
              "  (layer_0): Linear(in_features=1, out_features=20, bias=True)\n",
              "  (activation_0): Tanh()\n",
              "  (layer_1): Linear(in_features=20, out_features=20, bias=True)\n",
              "  (activation_1): Tanh()\n",
              "  (layer_2): Linear(in_features=20, out_features=10, bias=True)\n",
              "  (activation_2): Tanh()\n",
              "  (output_layer): Linear(in_features=10, out_features=1, bias=True)\n",
              ")"
            ]
          },
          "execution_count": 77,
          "metadata": {},
          "output_type": "execute_result"
        }
      ],
      "source": [
        "nnet.model"
      ]
    },
    {
      "cell_type": "markdown",
      "metadata": {
        "id": "e_PIp02HYYd1"
      },
      "source": [
        "# More Detailed Example Use"
      ]
    },
    {
      "cell_type": "code",
      "execution_count": 78,
      "metadata": {
        "colab": {
          "base_uri": "https://localhost:8080/"
        },
        "id": "vSD5YzlmYdMh",
        "outputId": "58c9bedd-9540-4689-e95b-cd806e29a116"
      },
      "outputs": [
        {
          "data": {
            "text/plain": [
              "(torch.Size([80, 1]),\n",
              " torch.Size([80, 1]),\n",
              " torch.Size([80, 1]),\n",
              " torch.Size([80, 1]),\n",
              " torch.Size([80, 1]),\n",
              " torch.Size([80, 1]))"
            ]
          },
          "execution_count": 78,
          "metadata": {},
          "output_type": "execute_result"
        }
      ],
      "source": [
        "# init train data as Pytorch Tensors\n",
        "Xtrain = torch.arange(-2, 2, 0.05).reshape(-1, 1)\n",
        "Ttrain = torch.sin(Xtrain) * torch.sin(Xtrain * 5)\n",
        "# Validation data\n",
        "Xval = Xtrain * 1.1\n",
        "Tval = Ttrain + 0.2 * Xtrain\n",
        "# Test data\n",
        "Xtest = Xtrain * 0.97\n",
        "Ttest = Ttrain + 0.15 * Xtrain\n",
        "\n",
        "Xtrain.shape, Ttrain.shape, Xval.shape, Tval.shape, Xtest.shape, Ttest.shape"
      ]
    },
    {
      "cell_type": "code",
      "execution_count": 79,
      "metadata": {
        "colab": {
          "base_uri": "https://localhost:8080/"
        },
        "id": "L2ybUCKRZMEj",
        "outputId": "68d2f81d-a175-4188-9ab2-3cccebcbac56"
      },
      "outputs": [
        {
          "name": "stdout",
          "output_type": "stream",
          "text": [
            "Epoch: 0, Train loss: 1.000281810760498, Val Loss: 1.1105490922927856\n",
            "Epoch: 300, Train loss: 0.8298892974853516, Val Loss: 0.8410682678222656\n",
            "Epoch: 600, Train loss: 0.6829208731651306, Val Loss: 1.2444332838058472\n",
            "Epoch: 900, Train loss: 0.3306022584438324, Val Loss: 0.8340744972229004\n",
            "Epoch: 1200, Train loss: 0.3178088366985321, Val Loss: 0.8272941708564758\n",
            "Epoch: 1500, Train loss: 0.3248482644557953, Val Loss: 0.6879960894584656\n",
            "Epoch: 1800, Train loss: 0.21398957073688507, Val Loss: 0.3128456175327301\n",
            "Epoch: 2100, Train loss: 0.19850589334964752, Val Loss: 0.35194283723831177\n",
            "Epoch: 2400, Train loss: 0.20183928310871124, Val Loss: 0.5235123634338379\n",
            "Epoch: 2700, Train loss: 0.1219329759478569, Val Loss: 0.4620041847229004\n",
            "Finished training run!\n"
          ]
        }
      ],
      "source": [
        "import matplotlib.pyplot as plt\n",
        "\n",
        "nnet = NeuralNetwork(Xtrain.shape[1], [20, 20, 10], 1)\n",
        "trainer = ModelTrainer(Optimizer.SGD, nnet, 0.1)\n",
        "trainer.train(nnet, Xtrain, Ttrain, Xval, Tval, n_epochs=3000, batch_size=1000)"
      ]
    },
    {
      "cell_type": "code",
      "execution_count": 80,
      "metadata": {
        "colab": {
          "base_uri": "https://localhost:8080/",
          "height": 487
        },
        "id": "Ff0KGUBccMi0",
        "outputId": "0a044de7-8dfa-49a3-a750-00de0b7f9880"
      },
      "outputs": [
        {
          "data": {
            "image/png": "[encoded data removed]",
            "text/plain": [
              "<Figure size 640x480 with 1 Axes>"
            ]
          },
          "metadata": {},
          "output_type": "display_data"
        }
      ],
      "source": [
        "Ytrain = nnet(Xtrain)\n",
        "plt.plot(Xtrain.cpu().detach().numpy(), Ytrain.cpu().detach().numpy(), '-', label='Predictions')\n",
        "plt.plot(Xtrain.cpu().detach().numpy(), Ttrain.cpu().detach().numpy(), 'o', label='Targets')\n",
        "plt.xlabel('X')\n",
        "plt.ylabel('Y')\n",
        "plt.legend()\n",
        "plt.tight_layout()"
      ]
    },
    {
      "cell_type": "code",
      "execution_count": 81,
      "metadata": {
        "colab": {
          "base_uri": "https://localhost:8080/",
          "height": 488
        },
        "id": "580Mxu5Lhyze",
        "outputId": "9de3436d-040f-4765-e7a8-36a2af2ce700"
      },
      "outputs": [
        {
          "data": {
            "text/plain": [
              "<matplotlib.legend.Legend at 0x7fde72fa14b0>"
            ]
          },
          "execution_count": 81,
          "metadata": {},
          "output_type": "execute_result"
        },
        {
          "data": {
            "image/png": "[encoded data removed]",
            "text/plain": [
              "<Figure size 640x480 with 1 Axes>"
            ]
          },
          "metadata": {},
          "output_type": "display_data"
        }
      ],
      "source": [
        "# Extract training and validation errors\n",
        "train_errors = [entry[0] for entry in trainer.error_trace]\n",
        "val_errors = [entry[1] for entry in trainer.error_trace]\n",
        "\n",
        "# Plot the errors\n",
        "plt.plot(train_errors, label=\"Training Error\")\n",
        "plt.plot(val_errors, label=\"Validation Error\")\n",
        "\n",
        "# Add labels and legend\n",
        "plt.xlabel(\"Epoch\")\n",
        "plt.ylabel(\"Error\")\n",
        "plt.title(\"Training and Validation Error\")\n",
        "plt.legend()"
      ]
    },
    {
      "cell_type": "markdown",
      "metadata": {
        "id": "Hu6NP8YFWAvh"
      },
      "source": [
        "## Apply NeuralNetwork PyTorch Implementation to MNIST dataset"
      ]
    },
    {
      "cell_type": "code",
      "execution_count": null,
      "metadata": {
        "id": "qAx2BxHFUkwE"
      },
      "outputs": [],
      "source": [
        "from pathlib import Path\n",
        "import requests\n",
        "\n",
        "DATA_PATH = Path(\"data\")\n",
        "PATH = DATA_PATH / \"mnist\"\n",
        "\n",
        "PATH.mkdir(parents=True, exist_ok=True)\n",
        "\n",
        "URL = \"https://github.com/pytorch/tutorials/raw/main/_static/\"\n",
        "FILENAME = \"mnist.pkl.gz\"\n",
        "\n",
        "if not (PATH / FILENAME).exists():\n",
        "        content = requests.get(URL + FILENAME).content\n",
        "        (PATH / FILENAME).open(\"wb\").write(content)"
      ]
    },
    {
      "cell_type": "code",
      "execution_count": null,
      "metadata": {
        "id": "eoWiewm0WKHe"
      },
      "outputs": [],
      "source": [
        "# load mnist data form pickle format\n",
        "import pickle\n",
        "import gzip\n",
        "\n",
        "with gzip.open((PATH / FILENAME).as_posix(), \"rb\") as f:\n",
        "        ((x_train, y_train), (x_valid, y_valid), _) = pickle.load(f, encoding=\"latin-1\")"
      ]
    },
    {
      "cell_type": "code",
      "execution_count": null,
      "metadata": {
        "colab": {
          "base_uri": "https://localhost:8080/",
          "height": 445
        },
        "id": "dClBpZNhWSkC",
        "outputId": "cf48050f-b781-4785-c089-32de70b12005"
      },
      "outputs": [
        {
          "name": "stdout",
          "output_type": "stream",
          "text": [
            "(50000, 784)\n"
          ]
        },
        {
          "data": {
            "image/png": "[encoded data removed]",
            "text/plain": [
              "<Figure size 640x480 with 1 Axes>"
            ]
          },
          "metadata": {},
          "output_type": "display_data"
        }
      ],
      "source": [
        "from matplotlib import pyplot\n",
        "import numpy as np\n",
        "\n",
        "pyplot.imshow(x_train[0].reshape((28, 28)), cmap=\"gray\")\n",
        "# ``pyplot.show()`` only if not on Colab\n",
        "try:\n",
        "    import google.colab\n",
        "except ImportError:\n",
        "    pyplot.show()\n",
        "print(x_train.shape)"
      ]
    },
    {
      "cell_type": "code",
      "execution_count": null,
      "metadata": {
        "colab": {
          "base_uri": "https://localhost:8080/"
        },
        "id": "-f56os3OWgpW",
        "outputId": "7117da11-11aa-4c24-c0c2-55bdb8c4c686"
      },
      "outputs": [
        {
          "name": "stdout",
          "output_type": "stream",
          "text": [
            "tensor([[0., 0., 0.,  ..., 0., 0., 0.],\n",
            "        [0., 0., 0.,  ..., 0., 0., 0.],\n",
            "        [0., 0., 0.,  ..., 0., 0., 0.],\n",
            "        ...,\n",
            "        [0., 0., 0.,  ..., 0., 0., 0.],\n",
            "        [0., 0., 0.,  ..., 0., 0., 0.],\n",
            "        [0., 0., 0.,  ..., 0., 0., 0.]], device='cuda:0') tensor([5, 0, 4,  ..., 8, 4, 8], device='cuda:0')\n",
            "torch.Size([50000, 784])\n",
            "tensor(0, device='cuda:0') tensor(9, device='cuda:0')\n"
          ]
        }
      ],
      "source": [
        "# convert input data from numpy arrays to torch tensors\n",
        "x_train, y_train, x_valid, y_valid = map(\n",
        "    torch.tensor, (x_train, y_train, x_valid, y_valid)\n",
        ")\n",
        "n, c = x_train.shape\n",
        "print(x_train, y_train)\n",
        "print(x_train.shape)\n",
        "print(y_train.min(), y_train.max())"
      ]
    },
    {
      "cell_type": "code",
      "execution_count": null,
      "metadata": {
        "id": "t6QzByb_WsRL"
      },
      "outputs": [],
      "source": []
    },
    {
      "cell_type": "code",
      "execution_count": null,
      "metadata": {
        "id": "YPFL-X6xYb0v"
      },
      "outputs": [],
      "source": []
    }
  ],
  "metadata": {
    "accelerator": "GPU",
    "colab": {
      "gpuType": "A100",
      "machine_shape": "hm",
      "provenance": []
    },
    "kernelspec": {
      "display_name": "base",
      "language": "python",
      "name": "python3"
    },
    "language_info": {
      "name": "python",
      "version": "3.12.2"
    }
  },
  "nbformat": 4,
  "nbformat_minor": 0
}
