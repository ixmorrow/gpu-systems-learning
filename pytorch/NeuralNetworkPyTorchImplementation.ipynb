{
  "cells": [
    {
      "cell_type": "code",
      "execution_count": 1,
      "metadata": {
        "id": "DvMCJpgEsBs5"
      },
      "outputs": [],
      "source": [
        "import torch\n",
        "import torch.nn as nn\n",
        "import math\n",
        "from typing import List\n",
        "from collections import OrderedDict"
      ]
    },
    {
      "cell_type": "code",
      "execution_count": 2,
      "metadata": {
        "id": "hLlc17qrsck6"
      },
      "outputs": [],
      "source": [
        "dtype = torch.float\n",
        "device = torch.device(\"cuda:0\")\n",
        "torch.set_default_device(device)"
      ]
    },
    {
      "cell_type": "code",
      "execution_count": 3,
      "metadata": {
        "id": "pnolElKGvv0O"
      },
      "outputs": [],
      "source": [
        "class NeuralNetwork(torch.nn.Module):\n",
        "  def __init__(self, n_inputs: int, n_hiddens_each_layer: List[int], n_outputs: int):\n",
        "    \"\"\"Creates a neural network with the given structure\n",
        "\n",
        "        Args:\n",
        "        ----------\n",
        "        n_inputs : int\n",
        "            The number of values in each sample\n",
        "        n_hiddens_each_layer : List[int]\n",
        "            The number of units in each hidden layer.\n",
        "            Its length specifies the number of hidden layers.\n",
        "        n_outputs : int\n",
        "            The number of units in output layer\n",
        "\n",
        "        Returns\n",
        "        -------\n",
        "        NeuralNetwork object\n",
        "        \"\"\"\n",
        "    super(NeuralNetwork, self).__init__()\n",
        "    self.n_inputs = n_inputs\n",
        "    self.n_hiddens_each_layer = n_hiddens_each_layer\n",
        "    self.n_outputs = n_outputs\n",
        "    self.standardized = False\n",
        "\n",
        "    # create list of shapes of weight matrices for each layer\n",
        "    shapes = self._set_shapes()\n",
        "    self.shapes = shapes\n",
        "\n",
        "    self.model = self._build_model()\n",
        "    self.model.apply(self.initialize_weights)\n",
        "\n",
        "    self.X_means = None\n",
        "    self.X_stds = None\n",
        "    self.T_means = None\n",
        "    self.T_stds = None\n",
        "\n",
        "    self.n_epochs = 0\n",
        "    self.error_trace = []\n",
        "\n",
        "  def _set_shapes(self, W_shapes: List[int]=[]):\n",
        "    \"\"\"\n",
        "    Args:\n",
        "        W_shapes List[int]: empty list by default, will hold shapes of weights in each layer\n",
        "\n",
        "    Set shapes for weights in each layer.\n",
        "\n",
        "    Returns\n",
        "    -------\n",
        "    List of pairs of ints: Each pair is the shape of weights in a layer.\n",
        "    \"\"\"\n",
        "    if not self.n_hiddens_each_layer and self.n_outputs <= 0:\n",
        "      raise ValueError(\"Network must have at least one hidden layer or valid output units.\")\n",
        "\n",
        "    num_layers = len(self.n_hiddens_each_layer)\n",
        "\n",
        "    if num_layers >= 1:\n",
        "        for layer in range(num_layers):\n",
        "            units_in_layer = self.n_hiddens_each_layer[layer]\n",
        "            if layer == 0:\n",
        "                units_prev_layer = self.n_inputs\n",
        "            else:\n",
        "                units_prev_layer = self.n_hiddens_each_layer[layer - 1]\n",
        "            W_shapes.append((units_prev_layer, units_in_layer)) # remove add 1 for bias, Linear takes care of it\n",
        "        # shape for output layer\n",
        "        W_shapes.append((self.n_hiddens_each_layer[-1], self.n_outputs))\n",
        "    else:\n",
        "        W_shapes.append((self.n_inputs, self.n_outputs))\n",
        "\n",
        "    return W_shapes\n",
        "\n",
        "  def _build_model(self, activation_fn=nn.Tanh, use_bias=True):\n",
        "    \"\"\"\n",
        "    Dynamically builds a Sequential model based on weight shapes.\n",
        "\n",
        "    Args:\n",
        "        activation_fn (callable): Activation function class (default: nn.Tanh).\n",
        "        use_bias (bool): Whether to include bias in Linear layers (default: True).\n",
        "\n",
        "    Returns:\n",
        "        nn.Sequential: A Sequential model with specified layers and activations.\n",
        "    \"\"\"\n",
        "    layers = []\n",
        "    for i, shape in enumerate(self.shapes[:-1]):\n",
        "      if not isinstance(shape, (tuple, list)) or len(shape) != 2:\n",
        "            raise ValueError(f\"Invalid shape at index {i}: {shape}. Each shape must be a tuple of two integers.\")\n",
        "      layers.append((f\"layer_{i}\", nn.Linear(*shape)))\n",
        "      # layers.append(Clamp(min=-10, max=10))  # Add clamping\n",
        "      layers.append((f\"activation_{i}\", activation_fn()))\n",
        "    # Output layer (no activation)\n",
        "    layers.append((f\"output_layer\", nn.Linear(*self.shapes[-1])))\n",
        "\n",
        "    return nn.Sequential(OrderedDict(layers))\n",
        "\n",
        "  def initialize_weights(self, layer):\n",
        "    \"\"\"\n",
        "      Create weights for each layer using Xavier initialization.\n",
        "    \"\"\"\n",
        "    if isinstance(layer, nn.Linear):\n",
        "        nn.init.xavier_uniform_(layer.weight)\n",
        "        if layer.bias is not None:\n",
        "            nn.init.zeros_(layer.bias)\n",
        "\n",
        "  def _create_params(self, size, lower_limt=0, upper_limit=0.01):\n",
        "    return nn.Parameter(torch.zeros(*size).normal_(lower_limt, upper_limit))\n",
        "\n",
        "  def _create_param(self, size):\n",
        "    return nn.Parameter(torch.zeros(*size).normal_(0, 0.01))\n",
        "\n",
        "  def forward(self, x):\n",
        "      \"\"\"\n",
        "      Defines the forward pass of the model.\n",
        "\n",
        "      Args:\n",
        "          x (torch.Tensor): Input tensor with shape (batch_size, input_features).\n",
        "                            Represents the input data to the model.\n",
        "\n",
        "      Returns:\n",
        "          torch.Tensor: Output tensor after passing through the model's layers.\n",
        "                        The shape depends on the final layer of the model, typically\n",
        "                        (batch_size, output_features).\n",
        "\n",
        "      This method applies the layers defined in the model sequentially to the input tensor.\n",
        "      It is called automatically when the model is invoked, e.g., `output = model(input)`.\n",
        "      \"\"\"\n",
        "      return self.model(x)\n",
        "\n",
        "  def __repr__(self):\n",
        "      return f'NeuralNetwork({self.n_inputs}, {self.n_hiddens_each_layer}, {self.n_outputs})'"
      ]
    },
    {
      "cell_type": "code",
      "execution_count": 4,
      "metadata": {
        "id": "OIDDjPzW8Iaf"
      },
      "outputs": [],
      "source": [
        "from enum import Enum\n",
        "from torch.utils.data import DataLoader, TensorDataset\n",
        "from torch import Tensor\n",
        "from typing import Optional\n",
        "\n",
        "class Optimizer(Enum):\n",
        "  SGD = 1\n",
        "  ADAMW = 2\n",
        "\n",
        "class ModelTrainer():\n",
        "  def __init__(self, optimizer: Optimizer, nnet: NeuralNetwork, lr=1e-4):\n",
        "    self.Optimizer = optimizer\n",
        "    self.nnet = nnet\n",
        "    self.lr = lr\n",
        "    self.error_trace = []\n",
        "\n",
        "  def train(\n",
        "      self,\n",
        "      nnet: NeuralNetwork,\n",
        "      Xtrain: Tensor,\n",
        "      Ttrain: Tensor,\n",
        "      Xvalidate: Tensor,\n",
        "      Tvalidate: Tensor,\n",
        "      n_epochs: int,\n",
        "      batch_size: int =-1,\n",
        "      optimizer: Optional[Optimizer] = Optimizer.SGD,\n",
        "      learning_rate: Optional[float] = None,\n",
        "      loss_fn: torch.nn.Module = torch.nn.MSELoss(reduction='mean'),\n",
        "      standardize_params: bool = True,\n",
        "      verbose: bool = True\n",
        "    ) -> None:\n",
        "    \"\"\"\n",
        "    Trains the neural network model.\n",
        "\n",
        "    Args:\n",
        "    ----------\n",
        "    nnet : torch.nn.Module\n",
        "        The neural network to train.\n",
        "    Xtrain : torch.Tensor\n",
        "        Input tensor for training data.\n",
        "    Ttrain : torch.Tensor\n",
        "        Target tensor for training data.\n",
        "    Xvalidate : torch.Tensor\n",
        "        Input tensor for validation data.\n",
        "    Tvalidate : torch.Tensor\n",
        "        Target tensor for validation data.\n",
        "    n_epochs : int\n",
        "        Number of training epochs.\n",
        "    batch_size : int\n",
        "        Batch size for training. Use -1 for full-batch training.\n",
        "    optimizer : torch.optim.Optimizer, optional\n",
        "        Optimizer to use for training.\n",
        "    learning_rate : float, optional\n",
        "        Learning rate for the optimizer.\n",
        "    standardize_params : bool\n",
        "        Whether to standardize input and target parameters.\n",
        "    verbose : bool\n",
        "        Whether to print progress during training.\n",
        "\n",
        "    Returns\n",
        "    -------\n",
        "    None\n",
        "    \"\"\"\n",
        "    # if batch_size == -1 use all input data as batch\n",
        "    nnet.batch_size = batch_size if batch_size != -1 else nnet.n_inputs\n",
        "\n",
        "    if standardize_params:\n",
        "      Xtrain, Ttrain, Xvalidate, Tvalidate, nnet.X_means, nnet.X_stds, nnet.T_means, nnet.T_stds = self._standardize(Xtrain, Ttrain, Xvalidate, Tvalidate)\n",
        "\n",
        "    # Initialize Optimizers\n",
        "    optimizer = self._initializeOptimizer()\n",
        "    # loss_fn = torch.nn.MSELoss(reduction='mean')\n",
        "\n",
        "    train_ds = TensorDataset(Xtrain, Ttrain)\n",
        "    valid_ds = TensorDataset(Xvalidate, Tvalidate)\n",
        "    train_dl, valid_dl = self.get_data(train_ds, valid_ds, nnet.batch_size)\n",
        "    self.fit(n_epochs, nnet, loss_fn, optimizer, train_dl, valid_dl)\n",
        "\n",
        "    print(\"Finished training run!\")\n",
        "\n",
        "  def fit(self, n_epochs, nnet, loss_fn, opt, train_dl, valid_dl):\n",
        "    for epoch in range(n_epochs):\n",
        "      nnet.train() # set to train mode\n",
        "      train_total_loss, train_samples = 0.0, 0\n",
        "      for X_batch, T_batch in train_dl:\n",
        "        train_batch_loss, train_batch_size = self.loss_batch(nnet, loss_fn, X_batch, T_batch, opt=opt)\n",
        "        train_total_loss += train_batch_loss * train_batch_size\n",
        "        train_samples += train_batch_size\n",
        "      train_loss = train_total_loss / train_samples\n",
        "\n",
        "      # eval model against Validation data\n",
        "      nnet.eval()  # Set model to evaluation mode\n",
        "      with torch.no_grad():  # No need to compute gradients during validation\n",
        "          total_loss, total_samples = 0.0, 0\n",
        "          for X_batch, T_batch in valid_dl:\n",
        "              batch_loss, batch_size = self.loss_batch(nnet, loss_fn, X_batch, T_batch)\n",
        "              total_loss += batch_loss * batch_size\n",
        "              total_samples += batch_size\n",
        "      val_loss = total_loss / total_samples\n",
        "      self.error_trace.append((train_loss, val_loss))\n",
        "\n",
        "      if n_epochs >= 0 and epoch % (n_epochs // 10) == 0:\n",
        "        print(f\"Epoch: {epoch}, Train loss: {train_loss}, Val Loss: {val_loss}\")\n",
        "\n",
        "  def loss_batch(self, nnet, loss_func, xb, tb, opt=None):\n",
        "    loss = loss_func(nnet(xb), tb)\n",
        "\n",
        "    if opt is not None:\n",
        "      # Zero gradients, perform a backward pass, and update the weights.\n",
        "      loss.backward()\n",
        "      opt.step()\n",
        "      opt.zero_grad()\n",
        "\n",
        "    return loss.item(), len(xb)\n",
        "\n",
        "  def get_data(self, train_ds, valid_ds, bs):\n",
        "    return (\n",
        "        DataLoader(train_ds, batch_size=bs, shuffle=True, generator=torch.Generator(device='cuda')),\n",
        "        DataLoader(valid_ds, batch_size=bs * 2)\n",
        "    )\n",
        "\n",
        "  def _standardize(self, Xtrain, Ttrain, Xvalidate, Tvalidate):\n",
        "      # Calculate and assign standardization parameters\n",
        "      X_means = torch.mean(Xtrain, dim=0)\n",
        "      X_stds = torch.std(Xtrain, dim=0)\n",
        "      X_stds[X_stds == 0] = 1  # Prevent division by zero\n",
        "\n",
        "      T_means = torch.mean(Ttrain, dim=0)\n",
        "      T_stds = torch.std(Ttrain, dim=0)\n",
        "      T_stds[T_stds == 0] = 1  # Prevent division by zero\n",
        "\n",
        "      # Standardize data\n",
        "      Xtrain_std = (Xtrain - X_means) / X_stds\n",
        "      Ttrain_std = (Ttrain - T_means) / T_stds\n",
        "      Xvalidate_std = (Xvalidate - X_means) / X_stds\n",
        "      Tvalidate_std = (Tvalidate - T_means) / T_stds\n",
        "\n",
        "      return Xtrain_std, Ttrain_std, Xvalidate_std, Tvalidate_std, X_means, X_stds, T_means, T_stds\n",
        "\n",
        "  def _initializeOptimizer(self):\n",
        "    if self.Optimizer == Optimizer.SGD:\n",
        "      optimizer = torch.optim.SGD(self.nnet.parameters(), lr=self.lr, momentum=0.001)\n",
        "    elif self.Optimizer == Optimizer.ADAMW:\n",
        "      optimizer = torch.optim.AdamW(self.nnet.parameters(), lr=self.lr)\n",
        "    else:\n",
        "      raise ValueError(f\"Unsupported optimizer type: {self.Optimizer}\")\n",
        "\n",
        "    return optimizer"
      ]
    },
    {
      "cell_type": "code",
      "execution_count": 5,
      "metadata": {
        "colab": {
          "base_uri": "https://localhost:8080/"
        },
        "id": "ZbJOWcsORfU-",
        "outputId": "955a7c6c-0cf8-4ca2-e672-f125c87f10c5"
      },
      "outputs": [
        {
          "name": "stdout",
          "output_type": "stream",
          "text": [
            "Training set: X_train (160, 1), T_train (160, 1)\n",
            "Validation set: X_val (40, 1), T_val (40, 1)\n"
          ]
        },
        {
          "data": {
            "text/plain": [
              "(torch.Size([160, 1]),\n",
              " torch.Size([160, 1]),\n",
              " torch.Size([40, 1]),\n",
              " torch.Size([40, 1]))"
            ]
          },
          "execution_count": 5,
          "metadata": {},
          "output_type": "execute_result"
        }
      ],
      "source": [
        "import numpy as np\n",
        "from sklearn.model_selection import train_test_split\n",
        "\n",
        "X = np.linspace(0, 10, 200).reshape(-1, 1)\n",
        "T = np.sin(X)\n",
        "\n",
        "# Split into training and validation sets\n",
        "X, X_val, T, T_val = train_test_split(X, T, test_size=0.2, random_state=42)\n",
        "\n",
        "# Print shapes to verify split\n",
        "print(f\"Training set: X_train {X.shape}, T_train {T.shape}\")\n",
        "print(f\"Validation set: X_val {X_val.shape}, T_val {T_val.shape}\")\n",
        "\n",
        "# Convert to PyTorch tensors\n",
        "X_tensor = torch.tensor(X, dtype=torch.float32)\n",
        "T_tensor = torch.tensor(T, dtype=torch.float32)\n",
        "Xval_tensor = torch.tensor(X_val, dtype=torch.float32)\n",
        "Tval_tensor = torch.tensor(T_val, dtype=torch.float32)\n",
        "\n",
        "X_tensor.shape, T_tensor.shape, Xval_tensor.shape, Tval_tensor.shape"
      ]
    },
    {
      "cell_type": "code",
      "execution_count": 6,
      "metadata": {
        "colab": {
          "base_uri": "https://localhost:8080/"
        },
        "id": "OQEL7IuaR9X5",
        "outputId": "d6b93688-80f0-4b0b-966a-f0dcac2bd7ba"
      },
      "outputs": [
        {
          "name": "stdout",
          "output_type": "stream",
          "text": [
            "Epoch: 0, Train loss: 1.4626121371984482, Val Loss: 0.9068126678466797\n",
            "Epoch: 100, Train loss: 1.0299451351165771, Val Loss: 0.8317821621894836\n",
            "Epoch: 200, Train loss: 0.9794392883777618, Val Loss: 0.8777746558189392\n",
            "Epoch: 300, Train loss: 0.967995896935463, Val Loss: 0.896928608417511\n",
            "Epoch: 400, Train loss: 0.9606587737798691, Val Loss: 0.8984751105308533\n",
            "Epoch: 500, Train loss: 0.9529200345277786, Val Loss: 0.893896758556366\n",
            "Epoch: 600, Train loss: 0.9441257119178772, Val Loss: 0.8867537379264832\n",
            "Epoch: 700, Train loss: 0.9336819797754288, Val Loss: 0.8785431981086731\n",
            "Epoch: 800, Train loss: 0.9212989583611488, Val Loss: 0.8648893237113953\n",
            "Epoch: 900, Train loss: 0.9063243940472603, Val Loss: 0.8508359789848328\n",
            "Finished training run!\n"
          ]
        }
      ],
      "source": [
        "nnet = NeuralNetwork(X.shape[1], [20, 20, 10], 1)\n",
        "trainer = ModelTrainer(Optimizer.SGD, nnet, 0.001)\n",
        "trainer.train(nnet, X_tensor, T_tensor, Xval_tensor, Tval_tensor, n_epochs=1000, batch_size=100)"
      ]
    },
    {
      "cell_type": "markdown",
      "metadata": {
        "id": "e_PIp02HYYd1"
      },
      "source": [
        "# More Detailed Example Use"
      ]
    },
    {
      "cell_type": "code",
      "execution_count": 7,
      "metadata": {
        "colab": {
          "base_uri": "https://localhost:8080/"
        },
        "id": "vSD5YzlmYdMh",
        "outputId": "5bfa39c5-28e7-445a-a91e-ab273f5cd26e"
      },
      "outputs": [
        {
          "data": {
            "text/plain": [
              "(torch.Size([80, 1]),\n",
              " torch.Size([80, 1]),\n",
              " torch.Size([80, 1]),\n",
              " torch.Size([80, 1]),\n",
              " torch.Size([80, 1]),\n",
              " torch.Size([80, 1]))"
            ]
          },
          "execution_count": 7,
          "metadata": {},
          "output_type": "execute_result"
        }
      ],
      "source": [
        "# init train data as Pytorch Tensors\n",
        "Xtrain = torch.arange(-2, 2, 0.05).reshape(-1, 1)\n",
        "Ttrain = torch.sin(Xtrain) * torch.sin(Xtrain * 5)\n",
        "# Validation data\n",
        "Xval = Xtrain * 1.1\n",
        "Tval = Ttrain + 0.2 * Xtrain\n",
        "# Test data\n",
        "Xtest = Xtrain * 0.97\n",
        "Ttest = Ttrain + 0.15 * Xtrain\n",
        "\n",
        "Xtrain.shape, Ttrain.shape, Xval.shape, Tval.shape, Xtest.shape, Ttest.shape"
      ]
    },
    {
      "cell_type": "code",
      "execution_count": 8,
      "metadata": {
        "colab": {
          "base_uri": "https://localhost:8080/"
        },
        "id": "L2ybUCKRZMEj",
        "outputId": "5e28af14-f0e9-4b17-f4ab-66fd33fa7e54"
      },
      "outputs": [
        {
          "name": "stdout",
          "output_type": "stream",
          "text": [
            "Epoch: 0, Train loss: 0.9893351793289185, Val Loss: 1.2236932516098022\n",
            "Epoch: 300, Train loss: 0.8693985342979431, Val Loss: 0.9614979028701782\n",
            "Epoch: 600, Train loss: 0.7682139277458191, Val Loss: 0.7404470443725586\n",
            "Epoch: 900, Train loss: 0.30903592705726624, Val Loss: 0.5159987211227417\n",
            "Epoch: 1200, Train loss: 0.299786776304245, Val Loss: 0.4124748408794403\n",
            "Epoch: 1500, Train loss: 0.22864890098571777, Val Loss: 0.3002377152442932\n",
            "Epoch: 1800, Train loss: 0.19121494889259338, Val Loss: 0.30453217029571533\n",
            "Epoch: 2100, Train loss: 0.18611694872379303, Val Loss: 0.3341900706291199\n",
            "Epoch: 2400, Train loss: 0.18299610912799835, Val Loss: 0.3578045070171356\n",
            "Epoch: 2700, Train loss: 0.18699228763580322, Val Loss: 0.4157504141330719\n",
            "Finished training run!\n"
          ]
        }
      ],
      "source": [
        "import matplotlib.pyplot as plt\n",
        "\n",
        "nnet = NeuralNetwork(Xtrain.shape[1], [20, 20, 10], 1)\n",
        "trainer = ModelTrainer(Optimizer.SGD, nnet, 0.1)\n",
        "trainer.train(nnet, Xtrain, Ttrain, Xval, Tval, n_epochs=3000, batch_size=1000)"
      ]
    },
    {
      "cell_type": "code",
      "execution_count": 9,
      "metadata": {
        "colab": {
          "base_uri": "https://localhost:8080/",
          "height": 487
        },
        "id": "Ff0KGUBccMi0",
        "outputId": "3a45e551-b2de-4aa2-ee6b-5f317201b334"
      },
      "outputs": [
        {
          "data": {
            "image/png": "[encoded data removed]",
            "text/plain": [
              "<Figure size 640x480 with 1 Axes>"
            ]
          },
          "metadata": {},
          "output_type": "display_data"
        }
      ],
      "source": [
        "Ytrain = nnet(Xtrain)\n",
        "plt.plot(Xtrain.cpu().detach().numpy(), Ytrain.cpu().detach().numpy(), '-', label='Predictions')\n",
        "plt.plot(Xtrain.cpu().detach().numpy(), Ttrain.cpu().detach().numpy(), 'o', label='Targets')\n",
        "plt.xlabel('X')\n",
        "plt.ylabel('Y')\n",
        "plt.legend()\n",
        "plt.tight_layout()"
      ]
    },
    {
      "cell_type": "code",
      "execution_count": 10,
      "metadata": {
        "colab": {
          "base_uri": "https://localhost:8080/",
          "height": 488
        },
        "id": "580Mxu5Lhyze",
        "outputId": "a9c438a7-5432-4c27-8e04-de6fc74d293e"
      },
      "outputs": [
        {
          "data": {
            "text/plain": [
              "<matplotlib.legend.Legend at 0x7e5101d76290>"
            ]
          },
          "execution_count": 10,
          "metadata": {},
          "output_type": "execute_result"
        },
        {
          "data": {
            "image/png": "[encoded data removed]",
            "text/plain": [
              "<Figure size 640x480 with 1 Axes>"
            ]
          },
          "metadata": {},
          "output_type": "display_data"
        }
      ],
      "source": [
        "# Extract training and validation errors\n",
        "train_errors = [entry[0] for entry in trainer.error_trace]\n",
        "val_errors = [entry[1] for entry in trainer.error_trace]\n",
        "\n",
        "# Plot the errors\n",
        "plt.plot(train_errors, label=\"Training Error\")\n",
        "plt.plot(val_errors, label=\"Validation Error\")\n",
        "\n",
        "# Add labels and legend\n",
        "plt.xlabel(\"Epoch\")\n",
        "plt.ylabel(\"Error\")\n",
        "plt.title(\"Training and Validation Error\")\n",
        "plt.legend()"
      ]
    },
    {
      "cell_type": "markdown",
      "metadata": {
        "id": "Hu6NP8YFWAvh"
      },
      "source": [
        "## Apply NeuralNetwork PyTorch Implementation to MNIST dataset"
      ]
    },
    {
      "cell_type": "code",
      "execution_count": 11,
      "metadata": {
        "id": "TljuirqusWpI"
      },
      "outputs": [],
      "source": [
        "class ConvNeuralNetwork(nn.Module):\n",
        "    def __init__(\n",
        "        self,\n",
        "        n_inputs: List[int],\n",
        "        conv_layers: List[List[int]],\n",
        "        n_outputs: int,\n",
        "      ):\n",
        "      \"\"\"\n",
        "      Creates a convolutional neural network with the given structure.\n",
        "\n",
        "      Args:\n",
        "      ------\n",
        "      n_inputs : List[int]\n",
        "          Image size is n_inputs x n_inputs x n_channels\n",
        "      conv_layers : List[List[int]]\n",
        "          Specifications of each convolutional layer.\n",
        "          n_units, kernel_size, stride\n",
        "      n_outputs : int\n",
        "          The number of units in output layer\n",
        "      \"\"\"\n",
        "      super().__init__()\n",
        "      self.n_inputs = n_inputs\n",
        "      self.conv_layers = conv_layers\n",
        "      self.n_outputs = n_outputs\n",
        "      self.model = self._build_model()\n",
        "\n",
        "    def _build_model(self):\n",
        "      layers = []\n",
        "      prev_units = self.n_inputs[2]  # Number of input channels (e.g., 3 for RGB images)\n",
        "      spatial_size = self.n_inputs[0]  # Assume square input (n_inputs[0] x n_inputs[1])\n",
        "\n",
        "      for i, conv_layer in enumerate(self.conv_layers):\n",
        "        n_units, kernel_size, stride = conv_layer\n",
        "\n",
        "        in_channels = prev_units if i == 0 else self.conv_layers[i-1][0]\n",
        "        # Add Conv2D layer\n",
        "        layers.append(nn.Conv2d(in_channels=in_channels, out_channels=n_units, kernel_size=kernel_size, stride=stride))\n",
        "        layers.append(nn.ReLU())\n",
        "\n",
        "        # Update spatial dimensions\n",
        "        spatial_size = (spatial_size - kernel_size) // stride + 1\n",
        "        prev_units = n_units\n",
        "      # Flatten layer before the fully connected layers\n",
        "      layers.append(nn.Flatten())\n",
        "\n",
        "      # Add output fully connected layer\n",
        "      layers.append(nn.Linear(prev_units * spatial_size * spatial_size, self.n_outputs))\n",
        "      return nn.Sequential(*layers)\n",
        "\n",
        "    def forward(self, X):\n",
        "      \"\"\"\n",
        "      Defines the forward pass of the model.\n",
        "\n",
        "      Args:\n",
        "          X (torch.Tensor): Input tensor with shape (batch_size, input_features).\n",
        "                            Represents the input data to the model.\n",
        "\n",
        "      Returns:\n",
        "          torch.Tensor: Output tensor after passing through the model's layers.\n",
        "                        The shape depends on the final layer of the model, typically\n",
        "                        (batch_size, output_features).\n",
        "\n",
        "      This method applies the layers defined in the model sequentially to the input tensor.\n",
        "      It is called automatically when the model is invoked, e.g., `output = model(input)`.\n",
        "      \"\"\"\n",
        "      X = X.view(-1, 1, 28, 28)\n",
        "      return self.model(X)\n",
        "\n",
        "    def use(self, X):\n",
        "      \"\"\"\n",
        "      Perform inference with trained model. Predicts output and\n",
        "      output tensor is converted to a singular digit prediction.\n",
        "\n",
        "      Returns:\n",
        "        int: Predicted digit.\n",
        "      \"\"\"\n",
        "      return torch.argmax(self(X)).item()"
      ]
    },
    {
      "cell_type": "code",
      "execution_count": 12,
      "metadata": {
        "id": "qAx2BxHFUkwE"
      },
      "outputs": [],
      "source": [
        "from pathlib import Path\n",
        "import requests\n",
        "\n",
        "DATA_PATH = Path(\"data\")\n",
        "PATH = DATA_PATH / \"mnist\"\n",
        "\n",
        "PATH.mkdir(parents=True, exist_ok=True)\n",
        "\n",
        "URL = \"https://github.com/pytorch/tutorials/raw/main/_static/\"\n",
        "FILENAME = \"mnist.pkl.gz\"\n",
        "\n",
        "if not (PATH / FILENAME).exists():\n",
        "        content = requests.get(URL + FILENAME).content\n",
        "        (PATH / FILENAME).open(\"wb\").write(content)"
      ]
    },
    {
      "cell_type": "code",
      "execution_count": 13,
      "metadata": {
        "id": "eoWiewm0WKHe"
      },
      "outputs": [],
      "source": [
        "# load mnist data form pickle format\n",
        "import pickle\n",
        "import gzip\n",
        "\n",
        "with gzip.open((PATH / FILENAME).as_posix(), \"rb\") as f:\n",
        "        ((x_train, y_train), (x_valid, y_valid), _) = pickle.load(f, encoding=\"latin-1\")"
      ]
    },
    {
      "cell_type": "code",
      "execution_count": 14,
      "metadata": {
        "colab": {
          "base_uri": "https://localhost:8080/",
          "height": 445
        },
        "id": "dClBpZNhWSkC",
        "outputId": "7528dee6-59f7-4e0b-d5a1-0ca08b627f52"
      },
      "outputs": [
        {
          "name": "stdout",
          "output_type": "stream",
          "text": [
            "(50000, 784)\n"
          ]
        },
        {
          "data": {
            "image/png": "[encoded data removed]",
            "text/plain": [
              "<Figure size 640x480 with 1 Axes>"
            ]
          },
          "metadata": {},
          "output_type": "display_data"
        }
      ],
      "source": [
        "from matplotlib import pyplot\n",
        "import numpy as np\n",
        "\n",
        "pyplot.imshow(x_train[0].reshape((28, 28)), cmap=\"gray\")\n",
        "# ``pyplot.show()`` only if not on Colab\n",
        "try:\n",
        "    import google.colab\n",
        "except ImportError:\n",
        "    pyplot.show()\n",
        "print(x_train.shape)"
      ]
    },
    {
      "cell_type": "code",
      "execution_count": 15,
      "metadata": {
        "colab": {
          "base_uri": "https://localhost:8080/"
        },
        "id": "-f56os3OWgpW",
        "outputId": "adfb3547-b32c-472e-b7d2-1ed860a68447"
      },
      "outputs": [
        {
          "name": "stdout",
          "output_type": "stream",
          "text": [
            "tensor([[0., 0., 0.,  ..., 0., 0., 0.],\n",
            "        [0., 0., 0.,  ..., 0., 0., 0.],\n",
            "        [0., 0., 0.,  ..., 0., 0., 0.],\n",
            "        ...,\n",
            "        [0., 0., 0.,  ..., 0., 0., 0.],\n",
            "        [0., 0., 0.,  ..., 0., 0., 0.],\n",
            "        [0., 0., 0.,  ..., 0., 0., 0.]], device='cuda:0') tensor([5, 0, 4,  ..., 8, 4, 8], device='cuda:0')\n",
            "torch.Size([50000, 784])\n",
            "tensor(0, device='cuda:0') tensor(9, device='cuda:0')\n"
          ]
        }
      ],
      "source": [
        "# convert input data from numpy arrays to torch tensors\n",
        "x_train, y_train, x_valid, y_valid = map(\n",
        "    torch.tensor, (x_train, y_train, x_valid, y_valid)\n",
        ")\n",
        "n, c = x_train.shape\n",
        "print(x_train, y_train)\n",
        "print(x_train.shape)\n",
        "print(y_train.min(), y_train.max())"
      ]
    },
    {
      "cell_type": "code",
      "execution_count": 16,
      "metadata": {
        "colab": {
          "base_uri": "https://localhost:8080/"
        },
        "id": "t6QzByb_WsRL",
        "outputId": "26188fcc-d61d-455f-d4bb-f44e496e6853"
      },
      "outputs": [
        {
          "name": "stdout",
          "output_type": "stream",
          "text": [
            "Epoch: 0, Train loss: 1.735791312456131, Val Loss: 0.659066641330719\n",
            "Epoch: 10, Train loss: 0.2099095207452774, Val Loss: 0.1919079452753067\n",
            "Epoch: 20, Train loss: 0.12582250952720642, Val Loss: 0.12599812150001527\n",
            "Epoch: 30, Train loss: 0.09289673313498498, Val Loss: 0.09821471422910691\n",
            "Epoch: 40, Train loss: 0.07663950204849243, Val Loss: 0.0887705385684967\n",
            "Epoch: 50, Train loss: 0.06638941198587417, Val Loss: 0.08063771575689316\n",
            "Epoch: 60, Train loss: 0.05907389886677265, Val Loss: 0.07964821755886078\n",
            "Epoch: 70, Train loss: 0.05346603747457266, Val Loss: 0.07818440943956376\n",
            "Epoch: 80, Train loss: 0.04948607984930277, Val Loss: 0.0793484628200531\n",
            "Epoch: 90, Train loss: 0.04571148209273815, Val Loss: 0.07394748330116271\n",
            "Finished training run!\n"
          ]
        }
      ],
      "source": [
        "cnn = ConvNeuralNetwork([28, 28, 1], [[16, 3, 2], [16, 3, 2]], 10)\n",
        "trainer = ModelTrainer(Optimizer.SGD, cnn, 0.1)\n",
        "trainer.train(cnn, x_train, y_train, x_valid, y_valid, n_epochs=100, batch_size=1000, loss_fn=torch.nn.CrossEntropyLoss(), standardize_params=False)"
      ]
    },
    {
      "cell_type": "code",
      "execution_count": 17,
      "metadata": {
        "colab": {
          "base_uri": "https://localhost:8080/"
        },
        "id": "YPFL-X6xYb0v",
        "outputId": "7be9c5d7-bae7-4ce0-ec91-c16bac33f586"
      },
      "outputs": [
        {
          "name": "stdout",
          "output_type": "stream",
          "text": [
            "CNN Prediction: 2, Target: 8\n",
            "CNN Prediction: 4, Target: 1\n",
            "CNN Prediction: 9, Target: 3\n",
            "CNN Prediction: 1, Target: 0\n",
            "CNN Prediction: 0, Target: 9\n",
            "CNN Prediction: 2, Target: 3\n",
            "CNN Prediction: 7, Target: 9\n",
            "CNN Prediction: 2, Target: 3\n",
            "CNN Prediction: 5, Target: 8\n",
            "CNN Prediction: 1, Target: 2\n",
            "CNN Prediction: 9, Target: 3\n",
            "CNN Prediction: 9, Target: 3\n",
            "CNN Prediction: 5, Target: 9\n",
            "CNN Prediction: 9, Target: 3\n",
            "CNN Prediction: 0, Target: 6\n",
            "CNN Prediction: 1, Target: 8\n",
            "CNN Prediction: 2, Target: 3\n",
            "CNN Prediction: 7, Target: 9\n",
            "CNN Prediction: 3, Target: 8\n",
            "CNN Prediction: 8, Target: 9\n",
            "CNN Prediction: 6, Target: 5\n",
            "CNN Prediction: 3, Target: 1\n",
            "CNN Prediction: 0, Target: 9\n",
            "CNN Prediction: 5, Target: 8\n",
            "CNN Prediction: 3, Target: 2\n",
            "CNN Prediction: 9, Target: 5\n",
            "CNN Prediction: 9, Target: 5\n",
            "CNN Prediction: 5, Target: 3\n",
            "CNN Prediction: 3, Target: 7\n",
            "Percent Correct: 97.1%, 971/1000\n"
          ]
        }
      ],
      "source": [
        "def eval_validation(total=1000):\n",
        "  correct = 0\n",
        "  for i in range(total):\n",
        "    if cnn.use(x_valid[i]) == y_valid[i]:\n",
        "      correct += 1\n",
        "    else:\n",
        "      print(f\"CNN Prediction: {cnn.use(x_valid[i])}, Target: {y_valid[i]}\")\n",
        "  print(f\"Percent Correct: {(correct / total)*100}%, {correct}/{total}\")\n",
        "\n",
        "eval_validation()"
      ]
    },
    {
      "cell_type": "code",
      "execution_count": 17,
      "metadata": {
        "id": "m4o9vWmtuCuB"
      },
      "outputs": [],
      "source": []
    }
  ],
  "metadata": {
    "accelerator": "GPU",
    "colab": {
      "gpuType": "A100",
      "machine_shape": "hm",
      "provenance": []
    },
    "kernelspec": {
      "display_name": "base",
      "language": "python",
      "name": "python3"
    },
    "language_info": {
      "name": "python",
      "version": "3.12.2"
    }
  },
  "nbformat": 4,
  "nbformat_minor": 0
}
